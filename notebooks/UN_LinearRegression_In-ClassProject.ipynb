{
 "cells": [
  {
   "cell_type": "markdown",
   "id": "d88975c0",
   "metadata": {},
   "source": [
    "## Linear Regression Practice\n",
    "\n",
    "For this exercise, you've been provided with a csv file, gdp_le.csv, which contains the gdp per capita and life expectancy values that you were working with on the UN data exercise."
   ]
  },
  {
   "cell_type": "code",
   "execution_count": 1,
   "id": "49e353a7",
   "metadata": {},
   "outputs": [],
   "source": [
    "import pandas as pd\n",
    "import statsmodels.api as sm\n",
    "import statsmodels.formula.api as smf\n",
    "import numpy as np\n",
    "import matplotlib.pyplot as plt\n",
    "import seaborn as sns\n",
    "from scipy.stats import probplot \n",
    "from statsmodels.stats.stattools import jarque_bera\n",
    "from statsmodels.compat import lzip"
   ]
  },
  {
   "cell_type": "markdown",
   "id": "c86ac6da",
   "metadata": {},
   "source": [
    "You'll be working with the combined gdp and life expectancy data."
   ]
  },
  {
   "cell_type": "code",
   "execution_count": 2,
   "id": "3ec5ec3b",
   "metadata": {},
   "outputs": [],
   "source": [
    "gdp_le = pd.read_csv('../data/gdp_le.csv').dropna()"
   ]
  },
  {
   "cell_type": "code",
   "execution_count": 3,
   "id": "038b2abc",
   "metadata": {},
   "outputs": [
    {
     "data": {
      "text/html": [
       "<div>\n",
       "<style scoped>\n",
       "    .dataframe tbody tr th:only-of-type {\n",
       "        vertical-align: middle;\n",
       "    }\n",
       "\n",
       "    .dataframe tbody tr th {\n",
       "        vertical-align: top;\n",
       "    }\n",
       "\n",
       "    .dataframe thead th {\n",
       "        text-align: right;\n",
       "    }\n",
       "</style>\n",
       "<table border=\"1\" class=\"dataframe\">\n",
       "  <thead>\n",
       "    <tr style=\"text-align: right;\">\n",
       "      <th></th>\n",
       "      <th>Country</th>\n",
       "      <th>Year</th>\n",
       "      <th>GDP_Per_Capita</th>\n",
       "      <th>Continent</th>\n",
       "      <th>Life_Expectancy</th>\n",
       "    </tr>\n",
       "  </thead>\n",
       "  <tbody>\n",
       "    <tr>\n",
       "      <th>0</th>\n",
       "      <td>Afghanistan</td>\n",
       "      <td>2021</td>\n",
       "      <td>1517.016266</td>\n",
       "      <td>Asia</td>\n",
       "      <td>61.982</td>\n",
       "    </tr>\n",
       "    <tr>\n",
       "      <th>1</th>\n",
       "      <td>Afghanistan</td>\n",
       "      <td>2020</td>\n",
       "      <td>1968.341002</td>\n",
       "      <td>Asia</td>\n",
       "      <td>62.575</td>\n",
       "    </tr>\n",
       "    <tr>\n",
       "      <th>2</th>\n",
       "      <td>Afghanistan</td>\n",
       "      <td>2019</td>\n",
       "      <td>2079.921861</td>\n",
       "      <td>Asia</td>\n",
       "      <td>63.565</td>\n",
       "    </tr>\n",
       "    <tr>\n",
       "      <th>3</th>\n",
       "      <td>Afghanistan</td>\n",
       "      <td>2018</td>\n",
       "      <td>2060.698973</td>\n",
       "      <td>Asia</td>\n",
       "      <td>63.081</td>\n",
       "    </tr>\n",
       "    <tr>\n",
       "      <th>4</th>\n",
       "      <td>Afghanistan</td>\n",
       "      <td>2017</td>\n",
       "      <td>2096.093111</td>\n",
       "      <td>Asia</td>\n",
       "      <td>63.016</td>\n",
       "    </tr>\n",
       "    <tr>\n",
       "      <th>...</th>\n",
       "      <td>...</td>\n",
       "      <td>...</td>\n",
       "      <td>...</td>\n",
       "      <td>...</td>\n",
       "      <td>...</td>\n",
       "    </tr>\n",
       "    <tr>\n",
       "      <th>5499</th>\n",
       "      <td>Zimbabwe</td>\n",
       "      <td>1994</td>\n",
       "      <td>2670.106615</td>\n",
       "      <td>Africa</td>\n",
       "      <td>52.588</td>\n",
       "    </tr>\n",
       "    <tr>\n",
       "      <th>5500</th>\n",
       "      <td>Zimbabwe</td>\n",
       "      <td>1993</td>\n",
       "      <td>2458.783255</td>\n",
       "      <td>Africa</td>\n",
       "      <td>54.426</td>\n",
       "    </tr>\n",
       "    <tr>\n",
       "      <th>5501</th>\n",
       "      <td>Zimbabwe</td>\n",
       "      <td>1992</td>\n",
       "      <td>2468.278257</td>\n",
       "      <td>Africa</td>\n",
       "      <td>56.435</td>\n",
       "    </tr>\n",
       "    <tr>\n",
       "      <th>5502</th>\n",
       "      <td>Zimbabwe</td>\n",
       "      <td>1991</td>\n",
       "      <td>2781.787843</td>\n",
       "      <td>Africa</td>\n",
       "      <td>58.091</td>\n",
       "    </tr>\n",
       "    <tr>\n",
       "      <th>5503</th>\n",
       "      <td>Zimbabwe</td>\n",
       "      <td>1990</td>\n",
       "      <td>2704.757299</td>\n",
       "      <td>Africa</td>\n",
       "      <td>59.426</td>\n",
       "    </tr>\n",
       "  </tbody>\n",
       "</table>\n",
       "<p>5504 rows × 5 columns</p>\n",
       "</div>"
      ],
      "text/plain": [
       "          Country  Year  GDP_Per_Capita Continent  Life_Expectancy\n",
       "0     Afghanistan  2021     1517.016266      Asia           61.982\n",
       "1     Afghanistan  2020     1968.341002      Asia           62.575\n",
       "2     Afghanistan  2019     2079.921861      Asia           63.565\n",
       "3     Afghanistan  2018     2060.698973      Asia           63.081\n",
       "4     Afghanistan  2017     2096.093111      Asia           63.016\n",
       "...           ...   ...             ...       ...              ...\n",
       "5499     Zimbabwe  1994     2670.106615    Africa           52.588\n",
       "5500     Zimbabwe  1993     2458.783255    Africa           54.426\n",
       "5501     Zimbabwe  1992     2468.278257    Africa           56.435\n",
       "5502     Zimbabwe  1991     2781.787843    Africa           58.091\n",
       "5503     Zimbabwe  1990     2704.757299    Africa           59.426\n",
       "\n",
       "[5504 rows x 5 columns]"
      ]
     },
     "execution_count": 3,
     "metadata": {},
     "output_type": "execute_result"
    }
   ],
   "source": [
    "gdp_le"
   ]
  },
  {
   "cell_type": "markdown",
   "id": "285bafd5",
   "metadata": {},
   "source": [
    "Q1) Start by fitting a linear regression model with target being life expectancy and predictor variable year. \n",
    "- a. What coefficients do you get? Interpret the meaning of these coefficents.\n",
    "- b. Using just the year makes the intercept term difficult to interpret. Create a new model, but this time use years since 1990 as your predictor variable. Hint: You can the patsy identity function to modify your predictors in your model formula. Inspect the new coefficients and interpret the meaning of them. Are they statistically significant?\n",
    "- c. Compare the actual mean life expectancy per year to the model's estimate. How well does it do?\n",
    "- d. Plot the actual values against your model's estimates for the mean life expectancy.\n",
    "- e. Inspect the R-squared value for the model. does it make sense, given the plot?"
   ]
  },
  {
   "cell_type": "markdown",
   "id": "fbcd72e6",
   "metadata": {},
   "source": [
    "### **Question 1:** Start by fitting a linear regression model with target being life expectancy and predictor variable year."
   ]
  },
  {
   "cell_type": "markdown",
   "id": "3e47b12a",
   "metadata": {},
   "source": [
    "\n",
    "a. What coefficients do you get? Interpret the meaning of these coefficents."
   ]
  },
  {
   "cell_type": "code",
   "execution_count": 4,
   "id": "69b4d721",
   "metadata": {},
   "outputs": [
    {
     "data": {
      "text/html": [
       "<table class=\"simpletable\">\n",
       "<caption>OLS Regression Results</caption>\n",
       "<tr>\n",
       "  <th>Dep. Variable:</th>     <td>Life_Expectancy</td> <th>  R-squared:         </th> <td>   0.430</td> \n",
       "</tr>\n",
       "<tr>\n",
       "  <th>Model:</th>                   <td>OLS</td>       <th>  Adj. R-squared:    </th> <td>   0.430</td> \n",
       "</tr>\n",
       "<tr>\n",
       "  <th>Method:</th>             <td>Least Squares</td>  <th>  F-statistic:       </th> <td>   4149.</td> \n",
       "</tr>\n",
       "<tr>\n",
       "  <th>Date:</th>             <td>Thu, 24 Oct 2024</td> <th>  Prob (F-statistic):</th>  <td>  0.00</td>  \n",
       "</tr>\n",
       "<tr>\n",
       "  <th>Time:</th>                 <td>16:41:37</td>     <th>  Log-Likelihood:    </th> <td> -18608.</td> \n",
       "</tr>\n",
       "<tr>\n",
       "  <th>No. Observations:</th>      <td>  5504</td>      <th>  AIC:               </th> <td>3.722e+04</td>\n",
       "</tr>\n",
       "<tr>\n",
       "  <th>Df Residuals:</th>          <td>  5502</td>      <th>  BIC:               </th> <td>3.723e+04</td>\n",
       "</tr>\n",
       "<tr>\n",
       "  <th>Df Model:</th>              <td>     1</td>      <th>                     </th>     <td> </td>    \n",
       "</tr>\n",
       "<tr>\n",
       "  <th>Covariance Type:</th>      <td>nonrobust</td>    <th>                     </th>     <td> </td>    \n",
       "</tr>\n",
       "</table>\n",
       "<table class=\"simpletable\">\n",
       "<tr>\n",
       "         <td></td>           <th>coef</th>     <th>std err</th>      <th>t</th>      <th>P>|t|</th>  <th>[0.025</th>    <th>0.975]</th>  \n",
       "</tr>\n",
       "<tr>\n",
       "  <th>Intercept</th>      <td>   63.5767</td> <td>    0.128</td> <td>  497.815</td> <td> 0.000</td> <td>   63.326</td> <td>   63.827</td>\n",
       "</tr>\n",
       "<tr>\n",
       "  <th>GDP_Per_Capita</th> <td>    0.0003</td> <td> 4.69e-06</td> <td>   64.411</td> <td> 0.000</td> <td>    0.000</td> <td>    0.000</td>\n",
       "</tr>\n",
       "</table>\n",
       "<table class=\"simpletable\">\n",
       "<tr>\n",
       "  <th>Omnibus:</th>       <td>899.156</td> <th>  Durbin-Watson:     </th> <td>   0.082</td> \n",
       "</tr>\n",
       "<tr>\n",
       "  <th>Prob(Omnibus):</th> <td> 0.000</td>  <th>  Jarque-Bera (JB):  </th> <td>1426.881</td> \n",
       "</tr>\n",
       "<tr>\n",
       "  <th>Skew:</th>          <td>-1.132</td>  <th>  Prob(JB):          </th> <td>1.43e-310</td>\n",
       "</tr>\n",
       "<tr>\n",
       "  <th>Kurtosis:</th>      <td> 4.046</td>  <th>  Cond. No.          </th> <td>3.63e+04</td> \n",
       "</tr>\n",
       "</table><br/><br/>Notes:<br/>[1] Standard Errors assume that the covariance matrix of the errors is correctly specified.<br/>[2] The condition number is large, 3.63e+04. This might indicate that there are<br/>strong multicollinearity or other numerical problems."
      ],
      "text/latex": [
       "\\begin{center}\n",
       "\\begin{tabular}{lclc}\n",
       "\\toprule\n",
       "\\textbf{Dep. Variable:}    & Life\\_Expectancy & \\textbf{  R-squared:         } &     0.430   \\\\\n",
       "\\textbf{Model:}            &       OLS        & \\textbf{  Adj. R-squared:    } &     0.430   \\\\\n",
       "\\textbf{Method:}           &  Least Squares   & \\textbf{  F-statistic:       } &     4149.   \\\\\n",
       "\\textbf{Date:}             & Thu, 24 Oct 2024 & \\textbf{  Prob (F-statistic):} &     0.00    \\\\\n",
       "\\textbf{Time:}             &     16:41:37     & \\textbf{  Log-Likelihood:    } &   -18608.   \\\\\n",
       "\\textbf{No. Observations:} &        5504      & \\textbf{  AIC:               } & 3.722e+04   \\\\\n",
       "\\textbf{Df Residuals:}     &        5502      & \\textbf{  BIC:               } & 3.723e+04   \\\\\n",
       "\\textbf{Df Model:}         &           1      & \\textbf{                     } &             \\\\\n",
       "\\textbf{Covariance Type:}  &    nonrobust     & \\textbf{                     } &             \\\\\n",
       "\\bottomrule\n",
       "\\end{tabular}\n",
       "\\begin{tabular}{lcccccc}\n",
       "                          & \\textbf{coef} & \\textbf{std err} & \\textbf{t} & \\textbf{P$> |$t$|$} & \\textbf{[0.025} & \\textbf{0.975]}  \\\\\n",
       "\\midrule\n",
       "\\textbf{Intercept}        &      63.5767  &        0.128     &   497.815  &         0.000        &       63.326    &       63.827     \\\\\n",
       "\\textbf{GDP\\_Per\\_Capita} &       0.0003  &     4.69e-06     &    64.411  &         0.000        &        0.000    &        0.000     \\\\\n",
       "\\bottomrule\n",
       "\\end{tabular}\n",
       "\\begin{tabular}{lclc}\n",
       "\\textbf{Omnibus:}       & 899.156 & \\textbf{  Durbin-Watson:     } &     0.082  \\\\\n",
       "\\textbf{Prob(Omnibus):} &   0.000 & \\textbf{  Jarque-Bera (JB):  } &  1426.881  \\\\\n",
       "\\textbf{Skew:}          &  -1.132 & \\textbf{  Prob(JB):          } & 1.43e-310  \\\\\n",
       "\\textbf{Kurtosis:}      &   4.046 & \\textbf{  Cond. No.          } &  3.63e+04  \\\\\n",
       "\\bottomrule\n",
       "\\end{tabular}\n",
       "%\\caption{OLS Regression Results}\n",
       "\\end{center}\n",
       "\n",
       "Notes: \\newline\n",
       " [1] Standard Errors assume that the covariance matrix of the errors is correctly specified. \\newline\n",
       " [2] The condition number is large, 3.63e+04. This might indicate that there are \\newline\n",
       " strong multicollinearity or other numerical problems."
      ],
      "text/plain": [
       "<class 'statsmodels.iolib.summary.Summary'>\n",
       "\"\"\"\n",
       "                            OLS Regression Results                            \n",
       "==============================================================================\n",
       "Dep. Variable:        Life_Expectancy   R-squared:                       0.430\n",
       "Model:                            OLS   Adj. R-squared:                  0.430\n",
       "Method:                 Least Squares   F-statistic:                     4149.\n",
       "Date:                Thu, 24 Oct 2024   Prob (F-statistic):               0.00\n",
       "Time:                        16:41:37   Log-Likelihood:                -18608.\n",
       "No. Observations:                5504   AIC:                         3.722e+04\n",
       "Df Residuals:                    5502   BIC:                         3.723e+04\n",
       "Df Model:                           1                                         \n",
       "Covariance Type:            nonrobust                                         \n",
       "==================================================================================\n",
       "                     coef    std err          t      P>|t|      [0.025      0.975]\n",
       "----------------------------------------------------------------------------------\n",
       "Intercept         63.5767      0.128    497.815      0.000      63.326      63.827\n",
       "GDP_Per_Capita     0.0003   4.69e-06     64.411      0.000       0.000       0.000\n",
       "==============================================================================\n",
       "Omnibus:                      899.156   Durbin-Watson:                   0.082\n",
       "Prob(Omnibus):                  0.000   Jarque-Bera (JB):             1426.881\n",
       "Skew:                          -1.132   Prob(JB):                    1.43e-310\n",
       "Kurtosis:                       4.046   Cond. No.                     3.63e+04\n",
       "==============================================================================\n",
       "\n",
       "Notes:\n",
       "[1] Standard Errors assume that the covariance matrix of the errors is correctly specified.\n",
       "[2] The condition number is large, 3.63e+04. This might indicate that there are\n",
       "strong multicollinearity or other numerical problems.\n",
       "\"\"\""
      ]
     },
     "execution_count": 4,
     "metadata": {},
     "output_type": "execute_result"
    }
   ],
   "source": [
    "lm = smf.ols('Life_Expectancy ~ GDP_Per_Capita', data = gdp_le).fit()\n",
    "lm.summary()"
   ]
  },
  {
   "cell_type": "code",
   "execution_count": 5,
   "id": "c4bfb07a",
   "metadata": {},
   "outputs": [
    {
     "data": {
      "text/plain": [
       "Intercept         63.576656\n",
       "GDP_Per_Capita     0.000302\n",
       "dtype: float64"
      ]
     },
     "execution_count": 5,
     "metadata": {},
     "output_type": "execute_result"
    }
   ],
   "source": [
    "lm.params"
   ]
  },
  {
   "cell_type": "markdown",
   "id": "3e618b8e",
   "metadata": {},
   "source": [
    "Ans: mean(life_expectancy) = 63.5767 + 0.0003 * GDP_Per_Capita"
   ]
  },
  {
   "cell_type": "markdown",
   "id": "ed8e3e0d",
   "metadata": {},
   "source": [
    "For every $1 increase in a nation's GDP_Per_Capita, its average life expectancy increases by 0.0003 years.  "
   ]
  },
  {
   "cell_type": "code",
   "execution_count": 6,
   "id": "8274d0bd",
   "metadata": {},
   "outputs": [
    {
     "data": {
      "text/plain": [
       "count    5.504000e+03\n",
       "mean    -2.230774e-15\n",
       "std      7.113059e+00\n",
       "min     -4.962322e+01\n",
       "25%     -3.263506e+00\n",
       "50%      1.865111e+00\n",
       "75%      4.992213e+00\n",
       "max      1.264655e+01\n",
       "dtype: float64"
      ]
     },
     "execution_count": 6,
     "metadata": {},
     "output_type": "execute_result"
    }
   ],
   "source": [
    "lm.resid.describe()"
   ]
  },
  {
   "cell_type": "code",
   "execution_count": 7,
   "id": "81795f20",
   "metadata": {},
   "outputs": [
    {
     "data": {
      "text/plain": [
       "0       -2.052831\n",
       "1       -1.596142\n",
       "2       -0.639842\n",
       "3       -1.118036\n",
       "4       -1.193726\n",
       "          ...    \n",
       "5499   -11.795092\n",
       "5500    -9.893267\n",
       "5501    -7.887135\n",
       "5502    -6.325823\n",
       "5503    -4.967557\n",
       "Length: 5504, dtype: float64"
      ]
     },
     "execution_count": 7,
     "metadata": {},
     "output_type": "execute_result"
    }
   ],
   "source": [
    "lm.resid"
   ]
  },
  {
   "cell_type": "code",
   "execution_count": 8,
   "id": "7e70888c",
   "metadata": {},
   "outputs": [
    {
     "data": {
      "text/plain": [
       "array([64.03483122, 64.17114209, 64.20484218, ..., 64.32213511,\n",
       "       64.4168225 , 64.39355744])"
      ]
     },
     "execution_count": 8,
     "metadata": {},
     "output_type": "execute_result"
    }
   ],
   "source": [
    "lm.predict()"
   ]
  },
  {
   "cell_type": "markdown",
   "id": "31be4083",
   "metadata": {},
   "source": [
    "### **Q1b**: Using just the year makes the intercept term difficult to interpret. Create a new model, but this time use years since 1990 as your predictor variable. Hint: You can the patsy identity function to modify your predictors in your model formula. Inspect the new coefficients and interpret the meaning of them. Are they statistically significant?"
   ]
  },
  {
   "cell_type": "code",
   "execution_count": 9,
   "id": "c5bf4211",
   "metadata": {},
   "outputs": [
    {
     "data": {
      "text/html": [
       "<div>\n",
       "<style scoped>\n",
       "    .dataframe tbody tr th:only-of-type {\n",
       "        vertical-align: middle;\n",
       "    }\n",
       "\n",
       "    .dataframe tbody tr th {\n",
       "        vertical-align: top;\n",
       "    }\n",
       "\n",
       "    .dataframe thead th {\n",
       "        text-align: right;\n",
       "    }\n",
       "</style>\n",
       "<table border=\"1\" class=\"dataframe\">\n",
       "  <thead>\n",
       "    <tr style=\"text-align: right;\">\n",
       "      <th></th>\n",
       "      <th>Country</th>\n",
       "      <th>Year</th>\n",
       "      <th>GDP_Per_Capita</th>\n",
       "      <th>Continent</th>\n",
       "      <th>Life_Expectancy</th>\n",
       "    </tr>\n",
       "  </thead>\n",
       "  <tbody>\n",
       "    <tr>\n",
       "      <th>0</th>\n",
       "      <td>Afghanistan</td>\n",
       "      <td>2021</td>\n",
       "      <td>1517.016266</td>\n",
       "      <td>Asia</td>\n",
       "      <td>61.982</td>\n",
       "    </tr>\n",
       "    <tr>\n",
       "      <th>1</th>\n",
       "      <td>Afghanistan</td>\n",
       "      <td>2020</td>\n",
       "      <td>1968.341002</td>\n",
       "      <td>Asia</td>\n",
       "      <td>62.575</td>\n",
       "    </tr>\n",
       "    <tr>\n",
       "      <th>2</th>\n",
       "      <td>Afghanistan</td>\n",
       "      <td>2019</td>\n",
       "      <td>2079.921861</td>\n",
       "      <td>Asia</td>\n",
       "      <td>63.565</td>\n",
       "    </tr>\n",
       "    <tr>\n",
       "      <th>3</th>\n",
       "      <td>Afghanistan</td>\n",
       "      <td>2018</td>\n",
       "      <td>2060.698973</td>\n",
       "      <td>Asia</td>\n",
       "      <td>63.081</td>\n",
       "    </tr>\n",
       "    <tr>\n",
       "      <th>4</th>\n",
       "      <td>Afghanistan</td>\n",
       "      <td>2017</td>\n",
       "      <td>2096.093111</td>\n",
       "      <td>Asia</td>\n",
       "      <td>63.016</td>\n",
       "    </tr>\n",
       "    <tr>\n",
       "      <th>...</th>\n",
       "      <td>...</td>\n",
       "      <td>...</td>\n",
       "      <td>...</td>\n",
       "      <td>...</td>\n",
       "      <td>...</td>\n",
       "    </tr>\n",
       "    <tr>\n",
       "      <th>5499</th>\n",
       "      <td>Zimbabwe</td>\n",
       "      <td>1994</td>\n",
       "      <td>2670.106615</td>\n",
       "      <td>Africa</td>\n",
       "      <td>52.588</td>\n",
       "    </tr>\n",
       "    <tr>\n",
       "      <th>5500</th>\n",
       "      <td>Zimbabwe</td>\n",
       "      <td>1993</td>\n",
       "      <td>2458.783255</td>\n",
       "      <td>Africa</td>\n",
       "      <td>54.426</td>\n",
       "    </tr>\n",
       "    <tr>\n",
       "      <th>5501</th>\n",
       "      <td>Zimbabwe</td>\n",
       "      <td>1992</td>\n",
       "      <td>2468.278257</td>\n",
       "      <td>Africa</td>\n",
       "      <td>56.435</td>\n",
       "    </tr>\n",
       "    <tr>\n",
       "      <th>5502</th>\n",
       "      <td>Zimbabwe</td>\n",
       "      <td>1991</td>\n",
       "      <td>2781.787843</td>\n",
       "      <td>Africa</td>\n",
       "      <td>58.091</td>\n",
       "    </tr>\n",
       "    <tr>\n",
       "      <th>5503</th>\n",
       "      <td>Zimbabwe</td>\n",
       "      <td>1990</td>\n",
       "      <td>2704.757299</td>\n",
       "      <td>Africa</td>\n",
       "      <td>59.426</td>\n",
       "    </tr>\n",
       "  </tbody>\n",
       "</table>\n",
       "<p>5504 rows × 5 columns</p>\n",
       "</div>"
      ],
      "text/plain": [
       "          Country  Year  GDP_Per_Capita Continent  Life_Expectancy\n",
       "0     Afghanistan  2021     1517.016266      Asia           61.982\n",
       "1     Afghanistan  2020     1968.341002      Asia           62.575\n",
       "2     Afghanistan  2019     2079.921861      Asia           63.565\n",
       "3     Afghanistan  2018     2060.698973      Asia           63.081\n",
       "4     Afghanistan  2017     2096.093111      Asia           63.016\n",
       "...           ...   ...             ...       ...              ...\n",
       "5499     Zimbabwe  1994     2670.106615    Africa           52.588\n",
       "5500     Zimbabwe  1993     2458.783255    Africa           54.426\n",
       "5501     Zimbabwe  1992     2468.278257    Africa           56.435\n",
       "5502     Zimbabwe  1991     2781.787843    Africa           58.091\n",
       "5503     Zimbabwe  1990     2704.757299    Africa           59.426\n",
       "\n",
       "[5504 rows x 5 columns]"
      ]
     },
     "execution_count": 9,
     "metadata": {},
     "output_type": "execute_result"
    }
   ],
   "source": [
    "gdp_le_1990andOn = gdp_le[gdp_le['Year'] >= 1990].copy()\n",
    "gdp_le_1990andOn"
   ]
  },
  {
   "cell_type": "code",
   "execution_count": 10,
   "id": "901a2052",
   "metadata": {},
   "outputs": [
    {
     "data": {
      "text/html": [
       "<table class=\"simpletable\">\n",
       "<caption>OLS Regression Results</caption>\n",
       "<tr>\n",
       "  <th>Dep. Variable:</th>     <td>Life_Expectancy</td> <th>  R-squared:         </th> <td>   0.072</td> \n",
       "</tr>\n",
       "<tr>\n",
       "  <th>Model:</th>                   <td>OLS</td>       <th>  Adj. R-squared:    </th> <td>   0.071</td> \n",
       "</tr>\n",
       "<tr>\n",
       "  <th>Method:</th>             <td>Least Squares</td>  <th>  F-statistic:       </th> <td>   424.0</td> \n",
       "</tr>\n",
       "<tr>\n",
       "  <th>Date:</th>             <td>Thu, 24 Oct 2024</td> <th>  Prob (F-statistic):</th> <td>8.13e-91</td> \n",
       "</tr>\n",
       "<tr>\n",
       "  <th>Time:</th>                 <td>16:41:37</td>     <th>  Log-Likelihood:    </th> <td> -19950.</td> \n",
       "</tr>\n",
       "<tr>\n",
       "  <th>No. Observations:</th>      <td>  5504</td>      <th>  AIC:               </th> <td>3.990e+04</td>\n",
       "</tr>\n",
       "<tr>\n",
       "  <th>Df Residuals:</th>          <td>  5502</td>      <th>  BIC:               </th> <td>3.992e+04</td>\n",
       "</tr>\n",
       "<tr>\n",
       "  <th>Df Model:</th>              <td>     1</td>      <th>                     </th>     <td> </td>    \n",
       "</tr>\n",
       "<tr>\n",
       "  <th>Covariance Type:</th>      <td>nonrobust</td>    <th>                     </th>     <td> </td>    \n",
       "</tr>\n",
       "</table>\n",
       "<table class=\"simpletable\">\n",
       "<tr>\n",
       "         <td></td>           <th>coef</th>     <th>std err</th>      <th>t</th>      <th>P>|t|</th>  <th>[0.025</th>    <th>0.975]</th>  \n",
       "</tr>\n",
       "<tr>\n",
       "  <th>Intercept</th>      <td>   64.6289</td> <td>    0.245</td> <td>  263.308</td> <td> 0.000</td> <td>   64.148</td> <td>   65.110</td>\n",
       "</tr>\n",
       "<tr>\n",
       "  <th>I(Year - 1990)</th> <td>    0.2677</td> <td>    0.013</td> <td>   20.591</td> <td> 0.000</td> <td>    0.242</td> <td>    0.293</td>\n",
       "</tr>\n",
       "</table>\n",
       "<table class=\"simpletable\">\n",
       "<tr>\n",
       "  <th>Omnibus:</th>       <td>387.409</td> <th>  Durbin-Watson:     </th> <td>   0.058</td> \n",
       "</tr>\n",
       "<tr>\n",
       "  <th>Prob(Omnibus):</th> <td> 0.000</td>  <th>  Jarque-Bera (JB):  </th> <td> 469.138</td> \n",
       "</tr>\n",
       "<tr>\n",
       "  <th>Skew:</th>          <td>-0.709</td>  <th>  Prob(JB):          </th> <td>1.34e-102</td>\n",
       "</tr>\n",
       "<tr>\n",
       "  <th>Kurtosis:</th>      <td> 2.820</td>  <th>  Cond. No.          </th> <td>    37.9</td> \n",
       "</tr>\n",
       "</table><br/><br/>Notes:<br/>[1] Standard Errors assume that the covariance matrix of the errors is correctly specified."
      ],
      "text/latex": [
       "\\begin{center}\n",
       "\\begin{tabular}{lclc}\n",
       "\\toprule\n",
       "\\textbf{Dep. Variable:}    & Life\\_Expectancy & \\textbf{  R-squared:         } &     0.072   \\\\\n",
       "\\textbf{Model:}            &       OLS        & \\textbf{  Adj. R-squared:    } &     0.071   \\\\\n",
       "\\textbf{Method:}           &  Least Squares   & \\textbf{  F-statistic:       } &     424.0   \\\\\n",
       "\\textbf{Date:}             & Thu, 24 Oct 2024 & \\textbf{  Prob (F-statistic):} &  8.13e-91   \\\\\n",
       "\\textbf{Time:}             &     16:41:37     & \\textbf{  Log-Likelihood:    } &   -19950.   \\\\\n",
       "\\textbf{No. Observations:} &        5504      & \\textbf{  AIC:               } & 3.990e+04   \\\\\n",
       "\\textbf{Df Residuals:}     &        5502      & \\textbf{  BIC:               } & 3.992e+04   \\\\\n",
       "\\textbf{Df Model:}         &           1      & \\textbf{                     } &             \\\\\n",
       "\\textbf{Covariance Type:}  &    nonrobust     & \\textbf{                     } &             \\\\\n",
       "\\bottomrule\n",
       "\\end{tabular}\n",
       "\\begin{tabular}{lcccccc}\n",
       "                        & \\textbf{coef} & \\textbf{std err} & \\textbf{t} & \\textbf{P$> |$t$|$} & \\textbf{[0.025} & \\textbf{0.975]}  \\\\\n",
       "\\midrule\n",
       "\\textbf{Intercept}      &      64.6289  &        0.245     &   263.308  &         0.000        &       64.148    &       65.110     \\\\\n",
       "\\textbf{I(Year - 1990)} &       0.2677  &        0.013     &    20.591  &         0.000        &        0.242    &        0.293     \\\\\n",
       "\\bottomrule\n",
       "\\end{tabular}\n",
       "\\begin{tabular}{lclc}\n",
       "\\textbf{Omnibus:}       & 387.409 & \\textbf{  Durbin-Watson:     } &     0.058  \\\\\n",
       "\\textbf{Prob(Omnibus):} &   0.000 & \\textbf{  Jarque-Bera (JB):  } &   469.138  \\\\\n",
       "\\textbf{Skew:}          &  -0.709 & \\textbf{  Prob(JB):          } & 1.34e-102  \\\\\n",
       "\\textbf{Kurtosis:}      &   2.820 & \\textbf{  Cond. No.          } &      37.9  \\\\\n",
       "\\bottomrule\n",
       "\\end{tabular}\n",
       "%\\caption{OLS Regression Results}\n",
       "\\end{center}\n",
       "\n",
       "Notes: \\newline\n",
       " [1] Standard Errors assume that the covariance matrix of the errors is correctly specified."
      ],
      "text/plain": [
       "<class 'statsmodels.iolib.summary.Summary'>\n",
       "\"\"\"\n",
       "                            OLS Regression Results                            \n",
       "==============================================================================\n",
       "Dep. Variable:        Life_Expectancy   R-squared:                       0.072\n",
       "Model:                            OLS   Adj. R-squared:                  0.071\n",
       "Method:                 Least Squares   F-statistic:                     424.0\n",
       "Date:                Thu, 24 Oct 2024   Prob (F-statistic):           8.13e-91\n",
       "Time:                        16:41:37   Log-Likelihood:                -19950.\n",
       "No. Observations:                5504   AIC:                         3.990e+04\n",
       "Df Residuals:                    5502   BIC:                         3.992e+04\n",
       "Df Model:                           1                                         \n",
       "Covariance Type:            nonrobust                                         \n",
       "==================================================================================\n",
       "                     coef    std err          t      P>|t|      [0.025      0.975]\n",
       "----------------------------------------------------------------------------------\n",
       "Intercept         64.6289      0.245    263.308      0.000      64.148      65.110\n",
       "I(Year - 1990)     0.2677      0.013     20.591      0.000       0.242       0.293\n",
       "==============================================================================\n",
       "Omnibus:                      387.409   Durbin-Watson:                   0.058\n",
       "Prob(Omnibus):                  0.000   Jarque-Bera (JB):              469.138\n",
       "Skew:                          -0.709   Prob(JB):                    1.34e-102\n",
       "Kurtosis:                       2.820   Cond. No.                         37.9\n",
       "==============================================================================\n",
       "\n",
       "Notes:\n",
       "[1] Standard Errors assume that the covariance matrix of the errors is correctly specified.\n",
       "\"\"\""
      ]
     },
     "execution_count": 10,
     "metadata": {},
     "output_type": "execute_result"
    }
   ],
   "source": [
    "lr_le_year = smf.ols('Life_Expectancy ~ I(Year-1990)', data = gdp_le_1990andOn).fit()\n",
    "lr_le_year.summary()"
   ]
  },
  {
   "cell_type": "code",
   "execution_count": 11,
   "id": "90ba737e",
   "metadata": {},
   "outputs": [
    {
     "data": {
      "text/plain": [
       "Intercept         64.628889\n",
       "I(Year - 1990)     0.267722\n",
       "dtype: float64"
      ]
     },
     "execution_count": 11,
     "metadata": {},
     "output_type": "execute_result"
    }
   ],
   "source": [
    "lr_le_year.params"
   ]
  },
  {
   "cell_type": "markdown",
   "id": "16b7e149",
   "metadata": {},
   "source": [
    "Ans: For each year progressed since 1990, we see an increase of average life expectancy of 0.2677 years. Yes, this coefficient of 0.2677 is statistically significant, since we see its p-value < 0.05 "
   ]
  },
  {
   "cell_type": "markdown",
   "id": "045f2cfa",
   "metadata": {},
   "source": [
    "Ans: For each year progressed since 1990, we see an increase of average life expectancy of 0.2677 years. Yes, this coefficient of 0.2677 is statistically significant, since we see its p-value < 0.05 "
   ]
  },
  {
   "cell_type": "markdown",
   "id": "870492fb",
   "metadata": {},
   "source": [
    "### **Q1c**: Compare the actual mean life expectancy per year to the model's estimate. How well does it do?"
   ]
  },
  {
   "cell_type": "code",
   "execution_count": 12,
   "id": "431cca8f",
   "metadata": {},
   "outputs": [
    {
     "data": {
      "text/html": [
       "<div>\n",
       "<style scoped>\n",
       "    .dataframe tbody tr th:only-of-type {\n",
       "        vertical-align: middle;\n",
       "    }\n",
       "\n",
       "    .dataframe tbody tr th {\n",
       "        vertical-align: top;\n",
       "    }\n",
       "\n",
       "    .dataframe thead th {\n",
       "        text-align: right;\n",
       "    }\n",
       "</style>\n",
       "<table border=\"1\" class=\"dataframe\">\n",
       "  <thead>\n",
       "    <tr style=\"text-align: right;\">\n",
       "      <th></th>\n",
       "      <th>Year</th>\n",
       "      <th>Life_Expectancy</th>\n",
       "      <th>Estimated_Mean</th>\n",
       "    </tr>\n",
       "  </thead>\n",
       "  <tbody>\n",
       "    <tr>\n",
       "      <th>0</th>\n",
       "      <td>1990</td>\n",
       "      <td>64.745253</td>\n",
       "      <td>64.628889</td>\n",
       "    </tr>\n",
       "    <tr>\n",
       "      <th>1</th>\n",
       "      <td>1991</td>\n",
       "      <td>65.021276</td>\n",
       "      <td>64.896612</td>\n",
       "    </tr>\n",
       "    <tr>\n",
       "      <th>2</th>\n",
       "      <td>1992</td>\n",
       "      <td>65.217845</td>\n",
       "      <td>65.164334</td>\n",
       "    </tr>\n",
       "    <tr>\n",
       "      <th>3</th>\n",
       "      <td>1993</td>\n",
       "      <td>65.218031</td>\n",
       "      <td>65.432056</td>\n",
       "    </tr>\n",
       "    <tr>\n",
       "      <th>4</th>\n",
       "      <td>1994</td>\n",
       "      <td>65.339539</td>\n",
       "      <td>65.699778</td>\n",
       "    </tr>\n",
       "  </tbody>\n",
       "</table>\n",
       "</div>"
      ],
      "text/plain": [
       "   Year  Life_Expectancy  Estimated_Mean\n",
       "0  1990        64.745253       64.628889\n",
       "1  1991        65.021276       64.896612\n",
       "2  1992        65.217845       65.164334\n",
       "3  1993        65.218031       65.432056\n",
       "4  1994        65.339539       65.699778"
      ]
     },
     "execution_count": 12,
     "metadata": {},
     "output_type": "execute_result"
    }
   ],
   "source": [
    "yearly_values = gdp_le_1990andOn.groupby('Year')['Life_Expectancy'].mean().reset_index()\n",
    "yearly_values['Estimated_Mean'] = lr_le_year.predict(yearly_values)\n",
    "yearly_values.head()"
   ]
  },
  {
   "cell_type": "markdown",
   "id": "7f196c61",
   "metadata": {},
   "source": [
    "Alternative way to code the above: \n",
    "yearly_values = gdp_le_1990andOn.groupby('Year').mean('Life_Expectancy').reset_index() \n",
    "yearly_values"
   ]
  },
  {
   "cell_type": "code",
   "execution_count": 13,
   "id": "dc16cdb3",
   "metadata": {},
   "outputs": [
    {
     "data": {
      "image/png": "[encoded data removed]",
      "text/plain": [
       "<Figure size 640x480 with 1 Axes>"
      ]
     },
     "metadata": {},
     "output_type": "display_data"
    }
   ],
   "source": [
    "fig, ax = plt.subplots()\n",
    "yearly_values.plot(x='Year', y='Life_Expectancy', ax=ax)\n",
    "yearly_values.plot(x='Year', y='Estimated_Mean', ax=ax);"
   ]
  },
  {
   "cell_type": "markdown",
   "id": "dcda9a62",
   "metadata": {},
   "source": [
    "Checking residuals: "
   ]
  },
  {
   "cell_type": "code",
   "execution_count": 14,
   "id": "0005577a",
   "metadata": {},
   "outputs": [
    {
     "data": {
      "text/html": [
       "<div>\n",
       "<style scoped>\n",
       "    .dataframe tbody tr th:only-of-type {\n",
       "        vertical-align: middle;\n",
       "    }\n",
       "\n",
       "    .dataframe tbody tr th {\n",
       "        vertical-align: top;\n",
       "    }\n",
       "\n",
       "    .dataframe thead th {\n",
       "        text-align: right;\n",
       "    }\n",
       "</style>\n",
       "<table border=\"1\" class=\"dataframe\">\n",
       "  <thead>\n",
       "    <tr style=\"text-align: right;\">\n",
       "      <th></th>\n",
       "      <th>Country</th>\n",
       "      <th>Year</th>\n",
       "      <th>GDP_Per_Capita</th>\n",
       "      <th>Continent</th>\n",
       "      <th>Life_Expectancy</th>\n",
       "    </tr>\n",
       "  </thead>\n",
       "  <tbody>\n",
       "    <tr>\n",
       "      <th>0</th>\n",
       "      <td>Afghanistan</td>\n",
       "      <td>2021</td>\n",
       "      <td>1517.016266</td>\n",
       "      <td>Asia</td>\n",
       "      <td>61.982</td>\n",
       "    </tr>\n",
       "    <tr>\n",
       "      <th>1</th>\n",
       "      <td>Afghanistan</td>\n",
       "      <td>2020</td>\n",
       "      <td>1968.341002</td>\n",
       "      <td>Asia</td>\n",
       "      <td>62.575</td>\n",
       "    </tr>\n",
       "    <tr>\n",
       "      <th>2</th>\n",
       "      <td>Afghanistan</td>\n",
       "      <td>2019</td>\n",
       "      <td>2079.921861</td>\n",
       "      <td>Asia</td>\n",
       "      <td>63.565</td>\n",
       "    </tr>\n",
       "    <tr>\n",
       "      <th>3</th>\n",
       "      <td>Afghanistan</td>\n",
       "      <td>2018</td>\n",
       "      <td>2060.698973</td>\n",
       "      <td>Asia</td>\n",
       "      <td>63.081</td>\n",
       "    </tr>\n",
       "    <tr>\n",
       "      <th>4</th>\n",
       "      <td>Afghanistan</td>\n",
       "      <td>2017</td>\n",
       "      <td>2096.093111</td>\n",
       "      <td>Asia</td>\n",
       "      <td>63.016</td>\n",
       "    </tr>\n",
       "  </tbody>\n",
       "</table>\n",
       "</div>"
      ],
      "text/plain": [
       "       Country  Year  GDP_Per_Capita Continent  Life_Expectancy\n",
       "0  Afghanistan  2021     1517.016266      Asia           61.982\n",
       "1  Afghanistan  2020     1968.341002      Asia           62.575\n",
       "2  Afghanistan  2019     2079.921861      Asia           63.565\n",
       "3  Afghanistan  2018     2060.698973      Asia           63.081\n",
       "4  Afghanistan  2017     2096.093111      Asia           63.016"
      ]
     },
     "execution_count": 14,
     "metadata": {},
     "output_type": "execute_result"
    }
   ],
   "source": [
    "gdp_le.head()"
   ]
  },
  {
   "cell_type": "code",
   "execution_count": 15,
   "id": "1f1ee512",
   "metadata": {},
   "outputs": [
    {
     "data": {
      "text/plain": [
       "0       72.928275\n",
       "1       72.660553\n",
       "2       72.392831\n",
       "3       72.125109\n",
       "4       71.857387\n",
       "          ...    \n",
       "5499    65.699778\n",
       "5500    65.432056\n",
       "5501    65.164334\n",
       "5502    64.896612\n",
       "5503    64.628889\n",
       "Length: 5504, dtype: float64"
      ]
     },
     "execution_count": 15,
     "metadata": {},
     "output_type": "execute_result"
    }
   ],
   "source": [
    "lr_le_year.predict(gdp_le)"
   ]
  },
  {
   "cell_type": "markdown",
   "id": "ffe13f76",
   "metadata": {},
   "source": [
    "Predicted values from model are generally higher than actual values."
   ]
  },
  {
   "cell_type": "code",
   "execution_count": 16,
   "id": "cd85acbe",
   "metadata": {},
   "outputs": [
    {
     "data": {
      "text/plain": [
       "0      -10.946275\n",
       "1      -10.085553\n",
       "2       -8.827831\n",
       "3       -9.044109\n",
       "4       -8.841387\n",
       "          ...    \n",
       "5499   -13.111778\n",
       "5500   -11.006056\n",
       "5501    -8.729334\n",
       "5502    -6.805612\n",
       "5503    -5.202889\n",
       "Length: 5504, dtype: float64"
      ]
     },
     "execution_count": 16,
     "metadata": {},
     "output_type": "execute_result"
    }
   ],
   "source": [
    "lr_le_year.resid"
   ]
  },
  {
   "cell_type": "code",
   "execution_count": 17,
   "id": "06e6d5aa",
   "metadata": {},
   "outputs": [
    {
     "data": {
      "text/plain": [
       "-3.3461605579400067e-15"
      ]
     },
     "execution_count": 17,
     "metadata": {},
     "output_type": "execute_result"
    }
   ],
   "source": [
    "lr_le_year.resid.mean()"
   ]
  },
  {
   "cell_type": "code",
   "execution_count": 18,
   "id": "5d977352",
   "metadata": {},
   "outputs": [
    {
     "data": {
      "text/plain": [
       "count    5.504000e+03\n",
       "mean    -3.346161e-15\n",
       "std      9.077286e+00\n",
       "min     -5.160178e+01\n",
       "25%     -6.152153e+00\n",
       "50%      2.102723e+00\n",
       "75%      6.845516e+00\n",
       "max      1.420818e+01\n",
       "dtype: float64"
      ]
     },
     "execution_count": 18,
     "metadata": {},
     "output_type": "execute_result"
    }
   ],
   "source": [
    "lr_le_year.resid.describe()"
   ]
  },
  {
   "cell_type": "code",
   "execution_count": 19,
   "id": "48c1607e",
   "metadata": {},
   "outputs": [
    {
     "data": {
      "text/html": [
       "<table class=\"simpletable\">\n",
       "<caption>OLS Regression Results</caption>\n",
       "<tr>\n",
       "  <th>Dep. Variable:</th>     <td>Life_Expectancy</td> <th>  R-squared:         </th> <td>   0.973</td>\n",
       "</tr>\n",
       "<tr>\n",
       "  <th>Model:</th>                   <td>OLS</td>       <th>  Adj. R-squared:    </th> <td>   0.972</td>\n",
       "</tr>\n",
       "<tr>\n",
       "  <th>Method:</th>             <td>Least Squares</td>  <th>  F-statistic:       </th> <td>   1130.</td>\n",
       "</tr>\n",
       "<tr>\n",
       "  <th>Date:</th>             <td>Thu, 24 Oct 2024</td> <th>  Prob (F-statistic):</th> <td>5.88e-26</td>\n",
       "</tr>\n",
       "<tr>\n",
       "  <th>Time:</th>                 <td>16:41:38</td>     <th>  Log-Likelihood:    </th> <td> -18.371</td>\n",
       "</tr>\n",
       "<tr>\n",
       "  <th>No. Observations:</th>      <td>    33</td>      <th>  AIC:               </th> <td>   40.74</td>\n",
       "</tr>\n",
       "<tr>\n",
       "  <th>Df Residuals:</th>          <td>    31</td>      <th>  BIC:               </th> <td>   43.73</td>\n",
       "</tr>\n",
       "<tr>\n",
       "  <th>Df Model:</th>              <td>     1</td>      <th>                     </th>     <td> </td>   \n",
       "</tr>\n",
       "<tr>\n",
       "  <th>Covariance Type:</th>      <td>nonrobust</td>    <th>                     </th>     <td> </td>   \n",
       "</tr>\n",
       "</table>\n",
       "<table class=\"simpletable\">\n",
       "<tr>\n",
       "         <td></td>           <th>coef</th>     <th>std err</th>      <th>t</th>      <th>P>|t|</th>  <th>[0.025</th>    <th>0.975]</th>  \n",
       "</tr>\n",
       "<tr>\n",
       "  <th>Intercept</th>      <td>   64.6263</td> <td>    0.148</td> <td>  435.844</td> <td> 0.000</td> <td>   64.324</td> <td>   64.929</td>\n",
       "</tr>\n",
       "<tr>\n",
       "  <th>I(Year - 1990)</th> <td>    0.2677</td> <td>    0.008</td> <td>   33.616</td> <td> 0.000</td> <td>    0.251</td> <td>    0.284</td>\n",
       "</tr>\n",
       "</table>\n",
       "<table class=\"simpletable\">\n",
       "<tr>\n",
       "  <th>Omnibus:</th>       <td>15.367</td> <th>  Durbin-Watson:     </th> <td>   0.345</td>\n",
       "</tr>\n",
       "<tr>\n",
       "  <th>Prob(Omnibus):</th> <td> 0.000</td> <th>  Jarque-Bera (JB):  </th> <td>  17.622</td>\n",
       "</tr>\n",
       "<tr>\n",
       "  <th>Skew:</th>          <td>-1.337</td> <th>  Prob(JB):          </th> <td>0.000149</td>\n",
       "</tr>\n",
       "<tr>\n",
       "  <th>Kurtosis:</th>      <td> 5.380</td> <th>  Cond. No.          </th> <td>    36.5</td>\n",
       "</tr>\n",
       "</table><br/><br/>Notes:<br/>[1] Standard Errors assume that the covariance matrix of the errors is correctly specified."
      ],
      "text/latex": [
       "\\begin{center}\n",
       "\\begin{tabular}{lclc}\n",
       "\\toprule\n",
       "\\textbf{Dep. Variable:}    & Life\\_Expectancy & \\textbf{  R-squared:         } &     0.973   \\\\\n",
       "\\textbf{Model:}            &       OLS        & \\textbf{  Adj. R-squared:    } &     0.972   \\\\\n",
       "\\textbf{Method:}           &  Least Squares   & \\textbf{  F-statistic:       } &     1130.   \\\\\n",
       "\\textbf{Date:}             & Thu, 24 Oct 2024 & \\textbf{  Prob (F-statistic):} &  5.88e-26   \\\\\n",
       "\\textbf{Time:}             &     16:41:38     & \\textbf{  Log-Likelihood:    } &   -18.371   \\\\\n",
       "\\textbf{No. Observations:} &          33      & \\textbf{  AIC:               } &     40.74   \\\\\n",
       "\\textbf{Df Residuals:}     &          31      & \\textbf{  BIC:               } &     43.73   \\\\\n",
       "\\textbf{Df Model:}         &           1      & \\textbf{                     } &             \\\\\n",
       "\\textbf{Covariance Type:}  &    nonrobust     & \\textbf{                     } &             \\\\\n",
       "\\bottomrule\n",
       "\\end{tabular}\n",
       "\\begin{tabular}{lcccccc}\n",
       "                        & \\textbf{coef} & \\textbf{std err} & \\textbf{t} & \\textbf{P$> |$t$|$} & \\textbf{[0.025} & \\textbf{0.975]}  \\\\\n",
       "\\midrule\n",
       "\\textbf{Intercept}      &      64.6263  &        0.148     &   435.844  &         0.000        &       64.324    &       64.929     \\\\\n",
       "\\textbf{I(Year - 1990)} &       0.2677  &        0.008     &    33.616  &         0.000        &        0.251    &        0.284     \\\\\n",
       "\\bottomrule\n",
       "\\end{tabular}\n",
       "\\begin{tabular}{lclc}\n",
       "\\textbf{Omnibus:}       & 15.367 & \\textbf{  Durbin-Watson:     } &    0.345  \\\\\n",
       "\\textbf{Prob(Omnibus):} &  0.000 & \\textbf{  Jarque-Bera (JB):  } &   17.622  \\\\\n",
       "\\textbf{Skew:}          & -1.337 & \\textbf{  Prob(JB):          } & 0.000149  \\\\\n",
       "\\textbf{Kurtosis:}      &  5.380 & \\textbf{  Cond. No.          } &     36.5  \\\\\n",
       "\\bottomrule\n",
       "\\end{tabular}\n",
       "%\\caption{OLS Regression Results}\n",
       "\\end{center}\n",
       "\n",
       "Notes: \\newline\n",
       " [1] Standard Errors assume that the covariance matrix of the errors is correctly specified."
      ],
      "text/plain": [
       "<class 'statsmodels.iolib.summary.Summary'>\n",
       "\"\"\"\n",
       "                            OLS Regression Results                            \n",
       "==============================================================================\n",
       "Dep. Variable:        Life_Expectancy   R-squared:                       0.973\n",
       "Model:                            OLS   Adj. R-squared:                  0.972\n",
       "Method:                 Least Squares   F-statistic:                     1130.\n",
       "Date:                Thu, 24 Oct 2024   Prob (F-statistic):           5.88e-26\n",
       "Time:                        16:41:38   Log-Likelihood:                -18.371\n",
       "No. Observations:                  33   AIC:                             40.74\n",
       "Df Residuals:                      31   BIC:                             43.73\n",
       "Df Model:                           1                                         \n",
       "Covariance Type:            nonrobust                                         \n",
       "==================================================================================\n",
       "                     coef    std err          t      P>|t|      [0.025      0.975]\n",
       "----------------------------------------------------------------------------------\n",
       "Intercept         64.6263      0.148    435.844      0.000      64.324      64.929\n",
       "I(Year - 1990)     0.2677      0.008     33.616      0.000       0.251       0.284\n",
       "==============================================================================\n",
       "Omnibus:                       15.367   Durbin-Watson:                   0.345\n",
       "Prob(Omnibus):                  0.000   Jarque-Bera (JB):               17.622\n",
       "Skew:                          -1.337   Prob(JB):                     0.000149\n",
       "Kurtosis:                       5.380   Cond. No.                         36.5\n",
       "==============================================================================\n",
       "\n",
       "Notes:\n",
       "[1] Standard Errors assume that the covariance matrix of the errors is correctly specified.\n",
       "\"\"\""
      ]
     },
     "execution_count": 19,
     "metadata": {},
     "output_type": "execute_result"
    }
   ],
   "source": [
    "lm = smf.ols('Life_Expectancy ~ I(Year-1990)', data = yearly_values).fit()\n",
    "lm.summary()"
   ]
  },
  {
   "cell_type": "code",
   "execution_count": 20,
   "id": "7cfdc5e9",
   "metadata": {},
   "outputs": [
    {
     "data": {
      "text/plain": [
       "Intercept         64.626339\n",
       "I(Year - 1990)     0.267716\n",
       "dtype: float64"
      ]
     },
     "execution_count": 20,
     "metadata": {},
     "output_type": "execute_result"
    }
   ],
   "source": [
    "lm.params"
   ]
  },
  {
   "cell_type": "markdown",
   "id": "3ea2a4b0",
   "metadata": {},
   "source": [
    "### **Q1d**: Plot the actual values gainst your model's estimates for the mean life expectancy."
   ]
  },
  {
   "cell_type": "markdown",
   "id": "780440dd",
   "metadata": {},
   "source": [
    "**Ans for 1d**"
   ]
  },
  {
   "cell_type": "code",
   "execution_count": 21,
   "id": "f38816c1",
   "metadata": {},
   "outputs": [
    {
     "data": {
      "image/png": "[encoded data removed]",
      "text/plain": [
       "<Figure size 640x480 with 1 Axes>"
      ]
     },
     "metadata": {},
     "output_type": "display_data"
    }
   ],
   "source": [
    "fig, ax = plt.subplots()\n",
    "gdp_le_1990andOn.plot(kind=\"scatter\", x='Year', y='Life_Expectancy', ax=ax)\n",
    "yearly_values.plot(x='Year', y='Estimated_Mean', ax=ax, color=\"black\");"
   ]
  },
  {
   "cell_type": "code",
   "execution_count": 22,
   "id": "99936698",
   "metadata": {},
   "outputs": [
    {
     "data": {
      "text/plain": [
       "<Axes: xlabel='Year', ylabel='Life_Expectancy'>"
      ]
     },
     "execution_count": 22,
     "metadata": {},
     "output_type": "execute_result"
    },
    {
     "data": {
      "image/png": "[encoded data removed]",
      "text/plain": [
       "<Figure size 640x480 with 1 Axes>"
      ]
     },
     "metadata": {},
     "output_type": "display_data"
    }
   ],
   "source": [
    "sns.regplot(x=\"Year\", y=\"Life_Expectancy\", data = yearly_values)"
   ]
  },
  {
   "cell_type": "code",
   "execution_count": 23,
   "id": "bd7aa864",
   "metadata": {},
   "outputs": [
    {
     "data": {
      "text/plain": [
       "0.9865598907362619"
      ]
     },
     "execution_count": 23,
     "metadata": {},
     "output_type": "execute_result"
    }
   ],
   "source": [
    "yearly_values['Year'].corr(yearly_values['Life_Expectancy'])"
   ]
  },
  {
   "cell_type": "code",
   "execution_count": 24,
   "id": "3bb28311",
   "metadata": {},
   "outputs": [
    {
     "data": {
      "image/png": "[encoded data removed]",
      "text/plain": [
       "<Figure size 640x480 with 1 Axes>"
      ]
     },
     "metadata": {},
     "output_type": "display_data"
    }
   ],
   "source": [
    "ax = yearly_values.plot(x = 'Year', y = 'Life_Expectancy', kind = 'scatter')\n",
    "\n",
    "fit_df = pd.DataFrame({\n",
    "    'Year': np.linspace(\n",
    "        start = gdp_le_1990andOn['Year'].min(),\n",
    "        stop = gdp_le_1990andOn['Year'].max(), \n",
    "        num = 150)})\n",
    "fit_df['fitted'] = lm.predict(fit_df)\n",
    "\n",
    "fit_df.plot(x = 'Year', y = 'fitted', ax = ax, color = 'black', label = 'fitted');"
   ]
  },
  {
   "cell_type": "code",
   "execution_count": null,
   "id": "c478c354",
   "metadata": {},
   "outputs": [],
   "source": []
  },
  {
   "cell_type": "markdown",
   "id": "689d9305",
   "metadata": {},
   "source": [
    "**1c Ans:** fits very well. The regression line of fit can account for > 97% of the variations seen in the data. "
   ]
  },
  {
   "cell_type": "markdown",
   "id": "07ac1790",
   "metadata": {},
   "source": [
    "### **Q1e**: Inspect the R-squared value for the model. Does it make sense, given the plot? "
   ]
  },
  {
   "cell_type": "markdown",
   "id": "b3fc688a",
   "metadata": {},
   "source": [
    "**1e Ans:** the adjust R-squared value = 0.07154748843194669"
   ]
  },
  {
   "cell_type": "code",
   "execution_count": 25,
   "id": "f24a4672",
   "metadata": {},
   "outputs": [
    {
     "data": {
      "text/plain": [
       "0.07154748843194669"
      ]
     },
     "execution_count": 25,
     "metadata": {},
     "output_type": "execute_result"
    }
   ],
   "source": [
    "lr_le_year.rsquared"
   ]
  },
  {
   "cell_type": "code",
   "execution_count": 26,
   "id": "9fd819a9",
   "metadata": {},
   "outputs": [
    {
     "data": {
      "text/plain": [
       "82.39711252241113"
      ]
     },
     "execution_count": 26,
     "metadata": {},
     "output_type": "execute_result"
    }
   ],
   "source": [
    "lr_le_year.resid.var()"
   ]
  },
  {
   "cell_type": "code",
   "execution_count": 27,
   "id": "dd2297cf",
   "metadata": {},
   "outputs": [
    {
     "data": {
      "text/plain": [
       "88.74671724809251"
      ]
     },
     "execution_count": 27,
     "metadata": {},
     "output_type": "execute_result"
    }
   ],
   "source": [
    "gdp_le['Life_Expectancy'].var()"
   ]
  },
  {
   "cell_type": "markdown",
   "id": "daa6aede",
   "metadata": {},
   "source": [
    "### **Q2:** Filter the full dataset down to just the year 2021. Fit a linear regression model with target being life expectancy and predictor variable gdp per capita."
   ]
  },
  {
   "cell_type": "markdown",
   "id": "f72320c1",
   "metadata": {},
   "source": [
    "For this part, we'll look at our dataset just for the year 2021."
   ]
  },
  {
   "cell_type": "code",
   "execution_count": 28,
   "id": "8e24363a",
   "metadata": {},
   "outputs": [],
   "source": [
    "gdp_le_2021 = gdp_le[gdp_le['Year'] == 2021].copy()"
   ]
  },
  {
   "cell_type": "markdown",
   "id": "33545cb6",
   "metadata": {},
   "source": [
    "Alternative way to code the above: gdp_le_2021 = gdp_le[gdp_le['Year'] == 2021]"
   ]
  },
  {
   "cell_type": "markdown",
   "id": "86e4454f",
   "metadata": {},
   "source": [
    "Fit a linear regression model on the 2021 data with target variable life expenctancy and predictor variable GDP per capita."
   ]
  },
  {
   "cell_type": "code",
   "execution_count": 29,
   "id": "29df7bbf",
   "metadata": {},
   "outputs": [
    {
     "data": {
      "text/html": [
       "<table class=\"simpletable\">\n",
       "<caption>OLS Regression Results</caption>\n",
       "<tr>\n",
       "  <th>Dep. Variable:</th>     <td>Life_Expectancy</td> <th>  R-squared:         </th> <td>   0.555</td>\n",
       "</tr>\n",
       "<tr>\n",
       "  <th>Model:</th>                   <td>OLS</td>       <th>  Adj. R-squared:    </th> <td>   0.553</td>\n",
       "</tr>\n",
       "<tr>\n",
       "  <th>Method:</th>             <td>Least Squares</td>  <th>  F-statistic:       </th> <td>   213.4</td>\n",
       "</tr>\n",
       "<tr>\n",
       "  <th>Date:</th>             <td>Thu, 24 Oct 2024</td> <th>  Prob (F-statistic):</th> <td>6.81e-32</td>\n",
       "</tr>\n",
       "<tr>\n",
       "  <th>Time:</th>                 <td>16:41:38</td>     <th>  Log-Likelihood:    </th> <td> -529.25</td>\n",
       "</tr>\n",
       "<tr>\n",
       "  <th>No. Observations:</th>      <td>   173</td>      <th>  AIC:               </th> <td>   1062.</td>\n",
       "</tr>\n",
       "<tr>\n",
       "  <th>Df Residuals:</th>          <td>   171</td>      <th>  BIC:               </th> <td>   1069.</td>\n",
       "</tr>\n",
       "<tr>\n",
       "  <th>Df Model:</th>              <td>     1</td>      <th>                     </th>     <td> </td>   \n",
       "</tr>\n",
       "<tr>\n",
       "  <th>Covariance Type:</th>      <td>nonrobust</td>    <th>                     </th>     <td> </td>   \n",
       "</tr>\n",
       "</table>\n",
       "<table class=\"simpletable\">\n",
       "<tr>\n",
       "         <td></td>           <th>coef</th>     <th>std err</th>      <th>t</th>      <th>P>|t|</th>  <th>[0.025</th>    <th>0.975]</th>  \n",
       "</tr>\n",
       "<tr>\n",
       "  <th>Intercept</th>      <td>   65.9499</td> <td>    0.549</td> <td>  120.225</td> <td> 0.000</td> <td>   64.867</td> <td>   67.033</td>\n",
       "</tr>\n",
       "<tr>\n",
       "  <th>GDP_Per_Capita</th> <td>    0.0003</td> <td> 1.76e-05</td> <td>   14.608</td> <td> 0.000</td> <td>    0.000</td> <td>    0.000</td>\n",
       "</tr>\n",
       "</table>\n",
       "<table class=\"simpletable\">\n",
       "<tr>\n",
       "  <th>Omnibus:</th>       <td>11.676</td> <th>  Durbin-Watson:     </th> <td>   1.887</td>\n",
       "</tr>\n",
       "<tr>\n",
       "  <th>Prob(Omnibus):</th> <td> 0.003</td> <th>  Jarque-Bera (JB):  </th> <td>  12.725</td>\n",
       "</tr>\n",
       "<tr>\n",
       "  <th>Skew:</th>          <td>-0.664</td> <th>  Prob(JB):          </th> <td> 0.00173</td>\n",
       "</tr>\n",
       "<tr>\n",
       "  <th>Kurtosis:</th>      <td> 2.946</td> <th>  Cond. No.          </th> <td>4.34e+04</td>\n",
       "</tr>\n",
       "</table><br/><br/>Notes:<br/>[1] Standard Errors assume that the covariance matrix of the errors is correctly specified.<br/>[2] The condition number is large, 4.34e+04. This might indicate that there are<br/>strong multicollinearity or other numerical problems."
      ],
      "text/latex": [
       "\\begin{center}\n",
       "\\begin{tabular}{lclc}\n",
       "\\toprule\n",
       "\\textbf{Dep. Variable:}    & Life\\_Expectancy & \\textbf{  R-squared:         } &     0.555   \\\\\n",
       "\\textbf{Model:}            &       OLS        & \\textbf{  Adj. R-squared:    } &     0.553   \\\\\n",
       "\\textbf{Method:}           &  Least Squares   & \\textbf{  F-statistic:       } &     213.4   \\\\\n",
       "\\textbf{Date:}             & Thu, 24 Oct 2024 & \\textbf{  Prob (F-statistic):} &  6.81e-32   \\\\\n",
       "\\textbf{Time:}             &     16:41:38     & \\textbf{  Log-Likelihood:    } &   -529.25   \\\\\n",
       "\\textbf{No. Observations:} &         173      & \\textbf{  AIC:               } &     1062.   \\\\\n",
       "\\textbf{Df Residuals:}     &         171      & \\textbf{  BIC:               } &     1069.   \\\\\n",
       "\\textbf{Df Model:}         &           1      & \\textbf{                     } &             \\\\\n",
       "\\textbf{Covariance Type:}  &    nonrobust     & \\textbf{                     } &             \\\\\n",
       "\\bottomrule\n",
       "\\end{tabular}\n",
       "\\begin{tabular}{lcccccc}\n",
       "                          & \\textbf{coef} & \\textbf{std err} & \\textbf{t} & \\textbf{P$> |$t$|$} & \\textbf{[0.025} & \\textbf{0.975]}  \\\\\n",
       "\\midrule\n",
       "\\textbf{Intercept}        &      65.9499  &        0.549     &   120.225  &         0.000        &       64.867    &       67.033     \\\\\n",
       "\\textbf{GDP\\_Per\\_Capita} &       0.0003  &     1.76e-05     &    14.608  &         0.000        &        0.000    &        0.000     \\\\\n",
       "\\bottomrule\n",
       "\\end{tabular}\n",
       "\\begin{tabular}{lclc}\n",
       "\\textbf{Omnibus:}       & 11.676 & \\textbf{  Durbin-Watson:     } &    1.887  \\\\\n",
       "\\textbf{Prob(Omnibus):} &  0.003 & \\textbf{  Jarque-Bera (JB):  } &   12.725  \\\\\n",
       "\\textbf{Skew:}          & -0.664 & \\textbf{  Prob(JB):          } &  0.00173  \\\\\n",
       "\\textbf{Kurtosis:}      &  2.946 & \\textbf{  Cond. No.          } & 4.34e+04  \\\\\n",
       "\\bottomrule\n",
       "\\end{tabular}\n",
       "%\\caption{OLS Regression Results}\n",
       "\\end{center}\n",
       "\n",
       "Notes: \\newline\n",
       " [1] Standard Errors assume that the covariance matrix of the errors is correctly specified. \\newline\n",
       " [2] The condition number is large, 4.34e+04. This might indicate that there are \\newline\n",
       " strong multicollinearity or other numerical problems."
      ],
      "text/plain": [
       "<class 'statsmodels.iolib.summary.Summary'>\n",
       "\"\"\"\n",
       "                            OLS Regression Results                            \n",
       "==============================================================================\n",
       "Dep. Variable:        Life_Expectancy   R-squared:                       0.555\n",
       "Model:                            OLS   Adj. R-squared:                  0.553\n",
       "Method:                 Least Squares   F-statistic:                     213.4\n",
       "Date:                Thu, 24 Oct 2024   Prob (F-statistic):           6.81e-32\n",
       "Time:                        16:41:38   Log-Likelihood:                -529.25\n",
       "No. Observations:                 173   AIC:                             1062.\n",
       "Df Residuals:                     171   BIC:                             1069.\n",
       "Df Model:                           1                                         \n",
       "Covariance Type:            nonrobust                                         \n",
       "==================================================================================\n",
       "                     coef    std err          t      P>|t|      [0.025      0.975]\n",
       "----------------------------------------------------------------------------------\n",
       "Intercept         65.9499      0.549    120.225      0.000      64.867      67.033\n",
       "GDP_Per_Capita     0.0003   1.76e-05     14.608      0.000       0.000       0.000\n",
       "==============================================================================\n",
       "Omnibus:                       11.676   Durbin-Watson:                   1.887\n",
       "Prob(Omnibus):                  0.003   Jarque-Bera (JB):               12.725\n",
       "Skew:                          -0.664   Prob(JB):                      0.00173\n",
       "Kurtosis:                       2.946   Cond. No.                     4.34e+04\n",
       "==============================================================================\n",
       "\n",
       "Notes:\n",
       "[1] Standard Errors assume that the covariance matrix of the errors is correctly specified.\n",
       "[2] The condition number is large, 4.34e+04. This might indicate that there are\n",
       "strong multicollinearity or other numerical problems.\n",
       "\"\"\""
      ]
     },
     "execution_count": 29,
     "metadata": {},
     "output_type": "execute_result"
    }
   ],
   "source": [
    "lr_le_gdp = smf.ols('Life_Expectancy ~ GDP_Per_Capita', data = gdp_le_2021).fit()\n",
    "lr_le_gdp.summary()"
   ]
  },
  {
   "cell_type": "code",
   "execution_count": 30,
   "id": "f161f2f9",
   "metadata": {},
   "outputs": [
    {
     "data": {
      "text/plain": [
       "Intercept         65.949870\n",
       "GDP_Per_Capita     0.000257\n",
       "dtype: float64"
      ]
     },
     "execution_count": 30,
     "metadata": {},
     "output_type": "execute_result"
    }
   ],
   "source": [
    "lr_le_gdp.params"
   ]
  },
  {
   "cell_type": "markdown",
   "id": "60c6e896",
   "metadata": {},
   "source": [
    "### **Q2a:** What coefficients do you get? Interpret the meaning of those coefficients."
   ]
  },
  {
   "cell_type": "markdown",
   "id": "cb53863e",
   "metadata": {},
   "source": [
    "**2a Ans:**  "
   ]
  },
  {
   "cell_type": "markdown",
   "id": "0b4f30d1",
   "metadata": {},
   "source": [
    "mean(life_expectancy) = 65.9499 + 0.000257 * GDP_Per_Capita"
   ]
  },
  {
   "cell_type": "markdown",
   "id": "b5048800",
   "metadata": {},
   "source": [
    "**Interpretation:**\n",
    "The estimated life expectancy when gdp per capita is 0 is 65.949870.\n",
    "For every one unit change in GDP per capita, the estimated average life expectancy increases by 0.000257."
   ]
  },
  {
   "cell_type": "markdown",
   "id": "c12976f7",
   "metadata": {},
   "source": [
    "### **Q2b:** Refit your model, but this time use thousands of dollars of gdp per capita as your predictor. How does this change your coefficients?"
   ]
  },
  {
   "cell_type": "markdown",
   "id": "3ae5f05d",
   "metadata": {},
   "source": [
    "**2b Ans:** For every one unit ($1000) change in GDP per capita, the estimated average life expectancy increases by 0.256892."
   ]
  },
  {
   "cell_type": "markdown",
   "id": "7e7fb71a",
   "metadata": {},
   "source": [
    "***mean(life_expectancy) = 65.94870 + 0.256892 * (GDP_Per_Capita/1000)***"
   ]
  },
  {
   "cell_type": "markdown",
   "id": "2794c4f9",
   "metadata": {},
   "source": [
    "For every one unit ($1000) change in GDP per capita, the estimated average life expectancy increases by 0.256892."
   ]
  },
  {
   "cell_type": "markdown",
   "id": "39845b55",
   "metadata": {},
   "source": [
    "### **Q2c:** Are the coefficients statistically significant?"
   ]
  },
  {
   "cell_type": "markdown",
   "id": "87b69c49",
   "metadata": {},
   "source": [
    "**2c Ans:** Yes, still statistically significant. p-value < 0.05"
   ]
  },
  {
   "cell_type": "markdown",
   "id": "60bc3252",
   "metadata": {},
   "source": [
    "***Instruction:*** It might make it easier to interpret if we changed the units on GDP_Per_Capita since a one unit change in GDP per capita does not have a very large impact at all on GDP_Per_Capita.\n",
    "\n",
    "Fit a new model, but this time use thousands of dollars of GDP_Per_Capita as your predictor variable.\n",
    "\n",
    "**Hint:** Two ways that you can accomplish this are by creating a new column in your DataFrame or by making use of `I()` in your formula."
   ]
  },
  {
   "cell_type": "code",
   "execution_count": 31,
   "id": "29ff1f71",
   "metadata": {},
   "outputs": [
    {
     "data": {
      "text/html": [
       "<table class=\"simpletable\">\n",
       "<caption>OLS Regression Results</caption>\n",
       "<tr>\n",
       "  <th>Dep. Variable:</th>     <td>Life_Expectancy</td> <th>  R-squared:         </th> <td>   0.555</td>\n",
       "</tr>\n",
       "<tr>\n",
       "  <th>Model:</th>                   <td>OLS</td>       <th>  Adj. R-squared:    </th> <td>   0.553</td>\n",
       "</tr>\n",
       "<tr>\n",
       "  <th>Method:</th>             <td>Least Squares</td>  <th>  F-statistic:       </th> <td>   213.4</td>\n",
       "</tr>\n",
       "<tr>\n",
       "  <th>Date:</th>             <td>Thu, 24 Oct 2024</td> <th>  Prob (F-statistic):</th> <td>6.81e-32</td>\n",
       "</tr>\n",
       "<tr>\n",
       "  <th>Time:</th>                 <td>16:41:38</td>     <th>  Log-Likelihood:    </th> <td> -529.25</td>\n",
       "</tr>\n",
       "<tr>\n",
       "  <th>No. Observations:</th>      <td>   173</td>      <th>  AIC:               </th> <td>   1062.</td>\n",
       "</tr>\n",
       "<tr>\n",
       "  <th>Df Residuals:</th>          <td>   171</td>      <th>  BIC:               </th> <td>   1069.</td>\n",
       "</tr>\n",
       "<tr>\n",
       "  <th>Df Model:</th>              <td>     1</td>      <th>                     </th>     <td> </td>   \n",
       "</tr>\n",
       "<tr>\n",
       "  <th>Covariance Type:</th>      <td>nonrobust</td>    <th>                     </th>     <td> </td>   \n",
       "</tr>\n",
       "</table>\n",
       "<table class=\"simpletable\">\n",
       "<tr>\n",
       "              <td></td>                <th>coef</th>     <th>std err</th>      <th>t</th>      <th>P>|t|</th>  <th>[0.025</th>    <th>0.975]</th>  \n",
       "</tr>\n",
       "<tr>\n",
       "  <th>Intercept</th>                <td>   65.9499</td> <td>    0.549</td> <td>  120.225</td> <td> 0.000</td> <td>   64.867</td> <td>   67.033</td>\n",
       "</tr>\n",
       "<tr>\n",
       "  <th>I(GDP_Per_Capita / 1000)</th> <td>    0.2569</td> <td>    0.018</td> <td>   14.608</td> <td> 0.000</td> <td>    0.222</td> <td>    0.292</td>\n",
       "</tr>\n",
       "</table>\n",
       "<table class=\"simpletable\">\n",
       "<tr>\n",
       "  <th>Omnibus:</th>       <td>11.676</td> <th>  Durbin-Watson:     </th> <td>   1.887</td>\n",
       "</tr>\n",
       "<tr>\n",
       "  <th>Prob(Omnibus):</th> <td> 0.003</td> <th>  Jarque-Bera (JB):  </th> <td>  12.725</td>\n",
       "</tr>\n",
       "<tr>\n",
       "  <th>Skew:</th>          <td>-0.664</td> <th>  Prob(JB):          </th> <td> 0.00173</td>\n",
       "</tr>\n",
       "<tr>\n",
       "  <th>Kurtosis:</th>      <td> 2.946</td> <th>  Cond. No.          </th> <td>    43.4</td>\n",
       "</tr>\n",
       "</table><br/><br/>Notes:<br/>[1] Standard Errors assume that the covariance matrix of the errors is correctly specified."
      ],
      "text/latex": [
       "\\begin{center}\n",
       "\\begin{tabular}{lclc}\n",
       "\\toprule\n",
       "\\textbf{Dep. Variable:}             & Life\\_Expectancy & \\textbf{  R-squared:         } &     0.555   \\\\\n",
       "\\textbf{Model:}                     &       OLS        & \\textbf{  Adj. R-squared:    } &     0.553   \\\\\n",
       "\\textbf{Method:}                    &  Least Squares   & \\textbf{  F-statistic:       } &     213.4   \\\\\n",
       "\\textbf{Date:}                      & Thu, 24 Oct 2024 & \\textbf{  Prob (F-statistic):} &  6.81e-32   \\\\\n",
       "\\textbf{Time:}                      &     16:41:38     & \\textbf{  Log-Likelihood:    } &   -529.25   \\\\\n",
       "\\textbf{No. Observations:}          &         173      & \\textbf{  AIC:               } &     1062.   \\\\\n",
       "\\textbf{Df Residuals:}              &         171      & \\textbf{  BIC:               } &     1069.   \\\\\n",
       "\\textbf{Df Model:}                  &           1      & \\textbf{                     } &             \\\\\n",
       "\\textbf{Covariance Type:}           &    nonrobust     & \\textbf{                     } &             \\\\\n",
       "\\bottomrule\n",
       "\\end{tabular}\n",
       "\\begin{tabular}{lcccccc}\n",
       "                                    & \\textbf{coef} & \\textbf{std err} & \\textbf{t} & \\textbf{P$> |$t$|$} & \\textbf{[0.025} & \\textbf{0.975]}  \\\\\n",
       "\\midrule\n",
       "\\textbf{Intercept}                  &      65.9499  &        0.549     &   120.225  &         0.000        &       64.867    &       67.033     \\\\\n",
       "\\textbf{I(GDP\\_Per\\_Capita / 1000)} &       0.2569  &        0.018     &    14.608  &         0.000        &        0.222    &        0.292     \\\\\n",
       "\\bottomrule\n",
       "\\end{tabular}\n",
       "\\begin{tabular}{lclc}\n",
       "\\textbf{Omnibus:}       & 11.676 & \\textbf{  Durbin-Watson:     } &    1.887  \\\\\n",
       "\\textbf{Prob(Omnibus):} &  0.003 & \\textbf{  Jarque-Bera (JB):  } &   12.725  \\\\\n",
       "\\textbf{Skew:}          & -0.664 & \\textbf{  Prob(JB):          } &  0.00173  \\\\\n",
       "\\textbf{Kurtosis:}      &  2.946 & \\textbf{  Cond. No.          } &     43.4  \\\\\n",
       "\\bottomrule\n",
       "\\end{tabular}\n",
       "%\\caption{OLS Regression Results}\n",
       "\\end{center}\n",
       "\n",
       "Notes: \\newline\n",
       " [1] Standard Errors assume that the covariance matrix of the errors is correctly specified."
      ],
      "text/plain": [
       "<class 'statsmodels.iolib.summary.Summary'>\n",
       "\"\"\"\n",
       "                            OLS Regression Results                            \n",
       "==============================================================================\n",
       "Dep. Variable:        Life_Expectancy   R-squared:                       0.555\n",
       "Model:                            OLS   Adj. R-squared:                  0.553\n",
       "Method:                 Least Squares   F-statistic:                     213.4\n",
       "Date:                Thu, 24 Oct 2024   Prob (F-statistic):           6.81e-32\n",
       "Time:                        16:41:38   Log-Likelihood:                -529.25\n",
       "No. Observations:                 173   AIC:                             1062.\n",
       "Df Residuals:                     171   BIC:                             1069.\n",
       "Df Model:                           1                                         \n",
       "Covariance Type:            nonrobust                                         \n",
       "============================================================================================\n",
       "                               coef    std err          t      P>|t|      [0.025      0.975]\n",
       "--------------------------------------------------------------------------------------------\n",
       "Intercept                   65.9499      0.549    120.225      0.000      64.867      67.033\n",
       "I(GDP_Per_Capita / 1000)     0.2569      0.018     14.608      0.000       0.222       0.292\n",
       "==============================================================================\n",
       "Omnibus:                       11.676   Durbin-Watson:                   1.887\n",
       "Prob(Omnibus):                  0.003   Jarque-Bera (JB):               12.725\n",
       "Skew:                          -0.664   Prob(JB):                      0.00173\n",
       "Kurtosis:                       2.946   Cond. No.                         43.4\n",
       "==============================================================================\n",
       "\n",
       "Notes:\n",
       "[1] Standard Errors assume that the covariance matrix of the errors is correctly specified.\n",
       "\"\"\""
      ]
     },
     "execution_count": 31,
     "metadata": {},
     "output_type": "execute_result"
    }
   ],
   "source": [
    "lr_le_gdp = smf.ols('Life_Expectancy ~ I(GDP_Per_Capita/1000)', data = gdp_le_2021).fit()\n",
    "lr_le_gdp.summary()"
   ]
  },
  {
   "cell_type": "markdown",
   "id": "9f5a3b52",
   "metadata": {},
   "source": [
    "### What about the assumptions?"
   ]
  },
  {
   "cell_type": "code",
   "execution_count": 32,
   "id": "f3d7611c",
   "metadata": {},
   "outputs": [
    {
     "data": {
      "image/png": "[encoded data removed]",
      "text/plain": [
       "<Figure size 640x480 with 1 Axes>"
      ]
     },
     "metadata": {},
     "output_type": "display_data"
    }
   ],
   "source": [
    "plt.hist(lr_le_gdp.resid);"
   ]
  },
  {
   "cell_type": "code",
   "execution_count": 33,
   "id": "e8926be9",
   "metadata": {},
   "outputs": [
    {
     "name": "stdout",
     "output_type": "stream",
     "text": [
      "(12.724842533019256, 0.0017251845192994466, -0.6637725985434982, 2.9459646075602697)\n"
     ]
    }
   ],
   "source": [
    "print(jarque_bera(lr_le_gdp.resid));\n"
   ]
  },
  {
   "cell_type": "markdown",
   "id": "52a9222f",
   "metadata": {},
   "source": [
    "Side Note: With the help of statsmodels.jarque_bera() method, we can get the jarque bera test for normality and it’s a test based on skewness, and the kurtosis, and has an asymptotic distribution. https://www.geeksforgeeks.org/statsmodels-jarque_bera-in-python/#"
   ]
  },
  {
   "cell_type": "code",
   "execution_count": 34,
   "id": "73aa4c60",
   "metadata": {},
   "outputs": [
    {
     "data": {
      "image/png": "[encoded data removed]",
      "text/plain": [
       "<Figure size 640x480 with 1 Axes>"
      ]
     },
     "metadata": {},
     "output_type": "display_data"
    }
   ],
   "source": [
    "probplot(lr_le_gdp.resid, plot=plt);"
   ]
  },
  {
   "cell_type": "markdown",
   "id": "4051348d",
   "metadata": {},
   "source": [
    "# ASK MICHAEL --> "
   ]
  },
  {
   "cell_type": "code",
   "execution_count": 35,
   "id": "a7885412",
   "metadata": {},
   "outputs": [],
   "source": [
    "#het_breuschpagan(lr_le_gdp.resid, lr_le_gdp.model.exog)"
   ]
  },
  {
   "cell_type": "markdown",
   "id": "d5045400",
   "metadata": {},
   "source": [
    "For reference, the above line of code should yield: (1.0321627180645492,\n",
    "0.3096512481674583,\n",
    "1.0263536925202543,\n",
    "0.31244794073203624)"
   ]
  },
  {
   "cell_type": "markdown",
   "id": "f391a6a3",
   "metadata": {},
   "source": [
    "### **Q2d:** What does your model estimate for the mean life expectancy for a country whose gdp per capita is $50,000? What about one whose gdp per capita is $100,000?"
   ]
  },
  {
   "cell_type": "markdown",
   "id": "6653e608",
   "metadata": {},
   "source": [
    "**2d Ans:** According to the model's estimate, the mean life expectancy for a country whose GDP Per Capita is $50k is expected to be 78.7949 years. By the same token, the mean life expectancy for a country whose GDP Per Capita is $100k is expected to be 91.6399 years. "
   ]
  },
  {
   "cell_type": "code",
   "execution_count": 36,
   "id": "d9e39dd1",
   "metadata": {},
   "outputs": [
    {
     "data": {
      "text/plain": [
       "Intercept                   65.949870\n",
       "I(GDP_Per_Capita / 1000)     0.256892\n",
       "dtype: float64"
      ]
     },
     "execution_count": 36,
     "metadata": {},
     "output_type": "execute_result"
    }
   ],
   "source": [
    "lr_le_gdp.params"
   ]
  },
  {
   "cell_type": "code",
   "execution_count": 37,
   "id": "3bfe0a23",
   "metadata": {},
   "outputs": [
    {
     "data": {
      "text/plain": [
       "78.7944572464132"
      ]
     },
     "execution_count": 37,
     "metadata": {},
     "output_type": "execute_result"
    }
   ],
   "source": [
    "gdp = 50000\n",
    "estimate = lr_le_gdp.params['Intercept'] + lr_le_gdp.params['I(GDP_Per_Capita / 1000)']*gdp/1000\n",
    "estimate"
   ]
  },
  {
   "cell_type": "code",
   "execution_count": 38,
   "id": "56a35fee",
   "metadata": {},
   "outputs": [
    {
     "data": {
      "text/plain": [
       "91.63904465544813"
      ]
     },
     "execution_count": 38,
     "metadata": {},
     "output_type": "execute_result"
    }
   ],
   "source": [
    "gdp = 100000\n",
    "estimate = lr_le_gdp.params['Intercept'] + lr_le_gdp.params['I(GDP_Per_Capita / 1000)']*gdp/1000\n",
    "estimate"
   ]
  },
  {
   "cell_type": "markdown",
   "id": "40b261b1",
   "metadata": {},
   "source": [
    "# ASK MICHAEL: How best to construct the kind of DataFrame that predict() prefers? --> "
   ]
  },
  {
   "cell_type": "code",
   "execution_count": 39,
   "id": "5c9478e7",
   "metadata": {},
   "outputs": [
    {
     "data": {
      "text/plain": [
       "0    78.794457\n",
       "1    91.639045\n",
       "dtype: float64"
      ]
     },
     "execution_count": 39,
     "metadata": {},
     "output_type": "execute_result"
    }
   ],
   "source": [
    "lr_le_gdp.predict(\n",
    "        pd.DataFrame({\n",
    "            'GDP_Per_Capita': [50000, 100000]\n",
    "        })\n",
    ")"
   ]
  },
  {
   "cell_type": "markdown",
   "id": "fd5c6091",
   "metadata": {},
   "source": [
    "### **Q2e:** Plot the actual values compared to your model's estimates for mean life expectancy. How would you assess the model's fit?"
   ]
  },
  {
   "cell_type": "markdown",
   "id": "86296c00",
   "metadata": {},
   "source": [
    "Now, let's plot the fitted values against the original data."
   ]
  },
  {
   "cell_type": "markdown",
   "id": "3e4af170",
   "metadata": {},
   "source": [
    "**2e Ans:**  Using Log might result a better fit. Scatter plot shows a curve covering a large span of GDP Per Capita."
   ]
  },
  {
   "cell_type": "code",
   "execution_count": 40,
   "id": "dbfb6c11",
   "metadata": {},
   "outputs": [
    {
     "data": {
      "image/png": "[encoded data removed]",
      "text/plain": [
       "<Figure size 640x480 with 1 Axes>"
      ]
     },
     "metadata": {},
     "output_type": "display_data"
    }
   ],
   "source": [
    "est_df = pd.DataFrame({'GDP_Per_Capita': np.linspace(gdp_le_2021['GDP_Per_Capita'].min(), gdp_le_2021['GDP_Per_Capita'].max())})\n",
    "est_df['Estimated_Mean'] = lr_le_gdp.predict(est_df)\n",
    "fig, ax = plt.subplots()\n",
    "gdp_le_2021.plot(kind=\"scatter\", x='GDP_Per_Capita', y='Life_Expectancy', ax=ax)\n",
    "est_df.plot(x='GDP_Per_Capita', y='Estimated_Mean', ax=ax, color=\"black\");"
   ]
  },
  {
   "cell_type": "markdown",
   "id": "73d0c056",
   "metadata": {},
   "source": [
    "Alternatively, the above plot can be coded in the following way:\n",
    "\n",
    "ax = gdp_le_2021.plot(x = 'GDP_Per_Capita', y = 'Life_Expectancy', kind = 'scatter')\n",
    "\n",
    "fit_df = pd.DataFrame({\n",
    "    'GDP_Per_Capita': np.linspace(\n",
    "        start = gdp_le_2021['GDP_Per_Capita'].min(),\n",
    "        stop = gdp_le_2021['GDP_Per_Capita'].max(), \n",
    "        num = 150)})\n",
    "fit_df['fitted'] = lr_le_gdp.predict(fit_df)\n",
    "\n",
    "fit_df.plot(x = 'GDP_Per_Capita', y = 'fitted', ax = ax, color = 'black', label = 'fitted');"
   ]
  },
  {
   "cell_type": "markdown",
   "id": "fe9f1e2a",
   "metadata": {},
   "source": []
  },
  {
   "cell_type": "markdown",
   "id": "c2f3ec0f",
   "metadata": {},
   "source": [
    "# Q3: Now, fit a model for life expectancy based on the log of gdp per capita."
   ]
  },
  {
   "cell_type": "markdown",
   "id": "53859f99",
   "metadata": {},
   "source": [
    "### Q3a: Inspect the coefficients for this model. Are they statistically significant? "
   ]
  },
  {
   "cell_type": "markdown",
   "id": "ef366c23",
   "metadata": {},
   "source": [
    "Q3 Ans: Coefficient for this model = 5.5890. Yes, statistically significant, as its p-value < 0.05. "
   ]
  },
  {
   "cell_type": "code",
   "execution_count": null,
   "id": "a4c2b5f6",
   "metadata": {},
   "outputs": [],
   "source": []
  },
  {
   "cell_type": "markdown",
   "id": "0b8636b6",
   "metadata": {},
   "source": [
    "You saw from the guided exploration portion of the project that using the logarithm of the GDP resulted in a larger correlation value. \n",
    "\n",
    "Fit a new model using the log of GDP Per Capita as a predictor variable.\n",
    "\n",
    "**Hint:** You can do this by using `'Life_Expectancy ~ np.log(GDP_Per_Capita)'` as your formula."
   ]
  },
  {
   "cell_type": "code",
   "execution_count": 52,
   "id": "aa56f96c",
   "metadata": {},
   "outputs": [
    {
     "data": {
      "text/html": [
       "<table class=\"simpletable\">\n",
       "<caption>OLS Regression Results</caption>\n",
       "<tr>\n",
       "  <th>Dep. Variable:</th>     <td>Life_Expectancy</td> <th>  R-squared:         </th> <td>   0.717</td>\n",
       "</tr>\n",
       "<tr>\n",
       "  <th>Model:</th>                   <td>OLS</td>       <th>  Adj. R-squared:    </th> <td>   0.715</td>\n",
       "</tr>\n",
       "<tr>\n",
       "  <th>Method:</th>             <td>Least Squares</td>  <th>  F-statistic:       </th> <td>   432.6</td>\n",
       "</tr>\n",
       "<tr>\n",
       "  <th>Date:</th>             <td>Thu, 24 Oct 2024</td> <th>  Prob (F-statistic):</th> <td>1.06e-48</td>\n",
       "</tr>\n",
       "<tr>\n",
       "  <th>Time:</th>                 <td>16:49:40</td>     <th>  Log-Likelihood:    </th> <td> -490.22</td>\n",
       "</tr>\n",
       "<tr>\n",
       "  <th>No. Observations:</th>      <td>   173</td>      <th>  AIC:               </th> <td>   984.4</td>\n",
       "</tr>\n",
       "<tr>\n",
       "  <th>Df Residuals:</th>          <td>   171</td>      <th>  BIC:               </th> <td>   990.7</td>\n",
       "</tr>\n",
       "<tr>\n",
       "  <th>Df Model:</th>              <td>     1</td>      <th>                     </th>     <td> </td>   \n",
       "</tr>\n",
       "<tr>\n",
       "  <th>Covariance Type:</th>      <td>nonrobust</td>    <th>                     </th>     <td> </td>   \n",
       "</tr>\n",
       "</table>\n",
       "<table class=\"simpletable\">\n",
       "<tr>\n",
       "             <td></td>               <th>coef</th>     <th>std err</th>      <th>t</th>      <th>P>|t|</th>  <th>[0.025</th>    <th>0.975]</th>  \n",
       "</tr>\n",
       "<tr>\n",
       "  <th>Intercept</th>              <td>   18.9470</td> <td>    2.547</td> <td>    7.438</td> <td> 0.000</td> <td>   13.919</td> <td>   23.975</td>\n",
       "</tr>\n",
       "<tr>\n",
       "  <th>np.log(GDP_Per_Capita)</th> <td>    5.5890</td> <td>    0.269</td> <td>   20.798</td> <td> 0.000</td> <td>    5.059</td> <td>    6.119</td>\n",
       "</tr>\n",
       "</table>\n",
       "<table class=\"simpletable\">\n",
       "<tr>\n",
       "  <th>Omnibus:</th>       <td>16.862</td> <th>  Durbin-Watson:     </th> <td>   1.974</td>\n",
       "</tr>\n",
       "<tr>\n",
       "  <th>Prob(Omnibus):</th> <td> 0.000</td> <th>  Jarque-Bera (JB):  </th> <td>  18.922</td>\n",
       "</tr>\n",
       "<tr>\n",
       "  <th>Skew:</th>          <td>-0.725</td> <th>  Prob(JB):          </th> <td>7.78e-05</td>\n",
       "</tr>\n",
       "<tr>\n",
       "  <th>Kurtosis:</th>      <td> 3.725</td> <th>  Cond. No.          </th> <td>    77.6</td>\n",
       "</tr>\n",
       "</table><br/><br/>Notes:<br/>[1] Standard Errors assume that the covariance matrix of the errors is correctly specified."
      ],
      "text/latex": [
       "\\begin{center}\n",
       "\\begin{tabular}{lclc}\n",
       "\\toprule\n",
       "\\textbf{Dep. Variable:}           & Life\\_Expectancy & \\textbf{  R-squared:         } &     0.717   \\\\\n",
       "\\textbf{Model:}                   &       OLS        & \\textbf{  Adj. R-squared:    } &     0.715   \\\\\n",
       "\\textbf{Method:}                  &  Least Squares   & \\textbf{  F-statistic:       } &     432.6   \\\\\n",
       "\\textbf{Date:}                    & Thu, 24 Oct 2024 & \\textbf{  Prob (F-statistic):} &  1.06e-48   \\\\\n",
       "\\textbf{Time:}                    &     16:49:40     & \\textbf{  Log-Likelihood:    } &   -490.22   \\\\\n",
       "\\textbf{No. Observations:}        &         173      & \\textbf{  AIC:               } &     984.4   \\\\\n",
       "\\textbf{Df Residuals:}            &         171      & \\textbf{  BIC:               } &     990.7   \\\\\n",
       "\\textbf{Df Model:}                &           1      & \\textbf{                     } &             \\\\\n",
       "\\textbf{Covariance Type:}         &    nonrobust     & \\textbf{                     } &             \\\\\n",
       "\\bottomrule\n",
       "\\end{tabular}\n",
       "\\begin{tabular}{lcccccc}\n",
       "                                  & \\textbf{coef} & \\textbf{std err} & \\textbf{t} & \\textbf{P$> |$t$|$} & \\textbf{[0.025} & \\textbf{0.975]}  \\\\\n",
       "\\midrule\n",
       "\\textbf{Intercept}                &      18.9470  &        2.547     &     7.438  &         0.000        &       13.919    &       23.975     \\\\\n",
       "\\textbf{np.log(GDP\\_Per\\_Capita)} &       5.5890  &        0.269     &    20.798  &         0.000        &        5.059    &        6.119     \\\\\n",
       "\\bottomrule\n",
       "\\end{tabular}\n",
       "\\begin{tabular}{lclc}\n",
       "\\textbf{Omnibus:}       & 16.862 & \\textbf{  Durbin-Watson:     } &    1.974  \\\\\n",
       "\\textbf{Prob(Omnibus):} &  0.000 & \\textbf{  Jarque-Bera (JB):  } &   18.922  \\\\\n",
       "\\textbf{Skew:}          & -0.725 & \\textbf{  Prob(JB):          } & 7.78e-05  \\\\\n",
       "\\textbf{Kurtosis:}      &  3.725 & \\textbf{  Cond. No.          } &     77.6  \\\\\n",
       "\\bottomrule\n",
       "\\end{tabular}\n",
       "%\\caption{OLS Regression Results}\n",
       "\\end{center}\n",
       "\n",
       "Notes: \\newline\n",
       " [1] Standard Errors assume that the covariance matrix of the errors is correctly specified."
      ],
      "text/plain": [
       "<class 'statsmodels.iolib.summary.Summary'>\n",
       "\"\"\"\n",
       "                            OLS Regression Results                            \n",
       "==============================================================================\n",
       "Dep. Variable:        Life_Expectancy   R-squared:                       0.717\n",
       "Model:                            OLS   Adj. R-squared:                  0.715\n",
       "Method:                 Least Squares   F-statistic:                     432.6\n",
       "Date:                Thu, 24 Oct 2024   Prob (F-statistic):           1.06e-48\n",
       "Time:                        16:49:40   Log-Likelihood:                -490.22\n",
       "No. Observations:                 173   AIC:                             984.4\n",
       "Df Residuals:                     171   BIC:                             990.7\n",
       "Df Model:                           1                                         \n",
       "Covariance Type:            nonrobust                                         \n",
       "==========================================================================================\n",
       "                             coef    std err          t      P>|t|      [0.025      0.975]\n",
       "------------------------------------------------------------------------------------------\n",
       "Intercept                 18.9470      2.547      7.438      0.000      13.919      23.975\n",
       "np.log(GDP_Per_Capita)     5.5890      0.269     20.798      0.000       5.059       6.119\n",
       "==============================================================================\n",
       "Omnibus:                       16.862   Durbin-Watson:                   1.974\n",
       "Prob(Omnibus):                  0.000   Jarque-Bera (JB):               18.922\n",
       "Skew:                          -0.725   Prob(JB):                     7.78e-05\n",
       "Kurtosis:                       3.725   Cond. No.                         77.6\n",
       "==============================================================================\n",
       "\n",
       "Notes:\n",
       "[1] Standard Errors assume that the covariance matrix of the errors is correctly specified.\n",
       "\"\"\""
      ]
     },
     "execution_count": 52,
     "metadata": {},
     "output_type": "execute_result"
    }
   ],
   "source": [
    "lr_le_log_gdp = smf.ols('Life_Expectancy ~ np.log(GDP_Per_Capita)', data = gdp_le_2021).fit()\n",
    "lr_le_log_gdp.summary()"
   ]
  },
  {
   "cell_type": "code",
   "execution_count": 53,
   "id": "60e9e78e",
   "metadata": {},
   "outputs": [
    {
     "data": {
      "text/plain": [
       "Intercept                 18.946970\n",
       "np.log(GDP_Per_Capita)     5.589014\n",
       "dtype: float64"
      ]
     },
     "execution_count": 53,
     "metadata": {},
     "output_type": "execute_result"
    }
   ],
   "source": [
    "lr_le_log_gdp.params"
   ]
  },
  {
   "cell_type": "markdown",
   "id": "51e3627d",
   "metadata": {},
   "source": [
    "### What about the assumptions?"
   ]
  },
  {
   "cell_type": "code",
   "execution_count": 57,
   "id": "5c72c5b6",
   "metadata": {},
   "outputs": [
    {
     "data": {
      "image/png": "[encoded data removed]",
      "text/plain": [
       "<Figure size 640x480 with 1 Axes>"
      ]
     },
     "metadata": {},
     "output_type": "display_data"
    }
   ],
   "source": [
    "plt.hist(lr_le_log_gdp.resid);"
   ]
  },
  {
   "cell_type": "code",
   "execution_count": 55,
   "id": "209381ee",
   "metadata": {},
   "outputs": [
    {
     "data": {
      "text/plain": [
       "(18.92181875730787,\n",
       " 7.783577662769079e-05,\n",
       " -0.7245333956594466,\n",
       " 3.724705203405059)"
      ]
     },
     "execution_count": 55,
     "metadata": {},
     "output_type": "execute_result"
    }
   ],
   "source": [
    "jarque_bera(lr_le_log_gdp.resid)"
   ]
  },
  {
   "cell_type": "markdown",
   "id": "fdad2f21",
   "metadata": {},
   "source": [
    "Side Note: p-value of 7.783577662769079e-05 means the sample did not come from a normal distribution. In the context of Jarque Bera test, null hypothesis (when p-value > 0.05) is that the sample does comes from a normal distribution. "
   ]
  },
  {
   "cell_type": "code",
   "execution_count": 56,
   "id": "2bb404a4",
   "metadata": {},
   "outputs": [
    {
     "data": {
      "image/png": "[encoded data removed]",
      "text/plain": [
       "<Figure size 640x480 with 1 Axes>"
      ]
     },
     "metadata": {},
     "output_type": "display_data"
    }
   ],
   "source": [
    "probplot(lr_le_log_gdp.resid, plot=plt);"
   ]
  },
  {
   "cell_type": "markdown",
   "id": "c97961af",
   "metadata": {},
   "source": [
    "# Need Michael's help to fix (currently getting error) --> "
   ]
  },
  {
   "cell_type": "code",
   "execution_count": 61,
   "id": "0ee323d6",
   "metadata": {},
   "outputs": [],
   "source": [
    "#sm.het_breuschpagan(lr_le_log_gdp.resid, lr_le_log_gdp.model.exog)"
   ]
  },
  {
   "cell_type": "markdown",
   "id": "5ca18c32",
   "metadata": {},
   "source": [
    "(2.456583536135878,\n",
    "0.117G3308952220823,\n",
    "2.463160369302461,\n",
    "0.11839264443085522)"
   ]
  },
  {
   "cell_type": "markdown",
   "id": "555ec7b4",
   "metadata": {},
   "source": [
    "### How can we fix it? One option is to bootstrap:"
   ]
  },
  {
   "cell_type": "code",
   "execution_count": 65,
   "id": "5365b88e",
   "metadata": {},
   "outputs": [],
   "source": [
    "bootstrap_coef = []\n",
    "num_resamples = 1000\n",
    "\n",
    "for _ in range(num_resamples):\n",
    "    boot_df = gdp_le_2021.sample(n=len(gdp_le_2021), replace=True).copy()\n",
    "    lr_boot = smf.ols(\"Life_Expectancy ~ np.log(GDP_Per_Capita)\", data=boot_df).fit()\n",
    "    bootstrap_coef.append(lr_boot.params['np.log(GDP_Per_Capita)'])"
   ]
  },
  {
   "cell_type": "code",
   "execution_count": 66,
   "id": "1e0f3fba",
   "metadata": {},
   "outputs": [
    {
     "data": {
      "text/plain": [
       "array([5.13796887, 6.06610016])"
      ]
     },
     "execution_count": 66,
     "metadata": {},
     "output_type": "execute_result"
    }
   ],
   "source": [
    "np.quantile(bootstrap_coef, q = [0.025, 0.975])"
   ]
  },
  {
   "cell_type": "markdown",
   "id": "705ffd4b",
   "metadata": {},
   "source": [
    "### Q3b: Interpret these coefficients. What does the model estimate for the average life expectancy for countries with a gdp per capita of $50,000? What about for those with a gdp per capita of $100,000? "
   ]
  },
  {
   "cell_type": "markdown",
   "id": "00630aa9",
   "metadata": {},
   "source": [
    "Note: When using logged predictors, a 1% increase in the predictor corresponds to an approximately B1/100 increase in the estimate.\n",
    "Why? Because of properties of logs."
   ]
  },
  {
   "cell_type": "markdown",
   "id": "7309bc6f",
   "metadata": {},
   "source": [
    "Bo + B1 • log(1.01 • x) = Bo + B1 • log(1.01) + B1 • log(x) = Bo + B1 • log(x) + B1 • log(1.01) ≈ Bo + B1 • log(x) + B1 • 0.01"
   ]
  },
  {
   "cell_type": "markdown",
   "id": "2653812a",
   "metadata": {},
   "source": [
    "**3b Ans:** "
   ]
  },
  {
   "cell_type": "code",
   "execution_count": 67,
   "id": "d53be86c",
   "metadata": {},
   "outputs": [],
   "source": [
    "orig_gdp = 50000\n",
    "pct_change = 0.01\n",
    "new_gdp = (1+pct_change)*orig_gdp"
   ]
  },
  {
   "cell_type": "markdown",
   "id": "e0b8b3eb",
   "metadata": {},
   "source": [
    "mean(life_expectancy) = 18.946970 + 5.589014*log(GDP_Per_Capita)\n",
    "\n",
    "For every 1 unit increase in the log of GDP per Capita, life expectancy increases by 5.589014 years.\n",
    "\n",
    "To increase the natural log by 1, we will need to multiply by e (2.718...)."
   ]
  },
  {
   "cell_type": "markdown",
   "id": "3f3d6513",
   "metadata": {},
   "source": [
    "According to the model's estimate, the mean life expectancy for a country whose GDP Per Capita is $50k is expected to be 47.97 years. By the same token, the mean life expectancy for a country whose GDP Per Capita is $100k is expected to be 49.65 years. "
   ]
  },
  {
   "cell_type": "markdown",
   "id": "4c5a535e",
   "metadata": {},
   "source": [
    "### Q3c: Plot the actual values compared to your models' estimates for the mean life expectancy. How does this compare to the non-logged model?"
   ]
  },
  {
   "cell_type": "markdown",
   "id": "5451e78c",
   "metadata": {},
   "source": [
    "**3c Ans:** Log Linear Regression gave a much better fit, as evidenced by its much higher Adjusted R^2 value of 0.715 (vs. 0.553)"
   ]
  },
  {
   "cell_type": "markdown",
   "id": "eef328f9",
   "metadata": {},
   "source": [
    "Let's look at the plot of our fitted vales agains the data."
   ]
  },
  {
   "cell_type": "code",
   "execution_count": 43,
   "id": "ee1b8902",
   "metadata": {},
   "outputs": [
    {
     "data": {
      "image/png": "[encoded data removed]",
      "text/plain": [
       "<Figure size 640x480 with 1 Axes>"
      ]
     },
     "metadata": {},
     "output_type": "display_data"
    }
   ],
   "source": [
    "ax = gdp_le_2021.plot(x = 'GDP_Per_Capita', y = 'Life_Expectancy', kind = 'scatter')\n",
    "\n",
    "fit_df = pd.DataFrame({\n",
    "    'GDP_Per_Capita': np.linspace(\n",
    "        start = gdp_le_2021['GDP_Per_Capita'].min(),\n",
    "        stop = gdp_le_2021['GDP_Per_Capita'].max(), \n",
    "        num = 150)})\n",
    "fit_df['fitted'] = lm.predict(fit_df)\n",
    "\n",
    "fit_df.plot(x = 'GDP_Per_Capita', y = 'fitted', ax = ax, color = 'black', label = 'fitted');"
   ]
  },
  {
   "cell_type": "markdown",
   "id": "0dfcaf94",
   "metadata": {},
   "source": [
    "We can plot with GDP Per Capita presented on a log scale."
   ]
  },
  {
   "cell_type": "code",
   "execution_count": 44,
   "id": "d94fb83b",
   "metadata": {},
   "outputs": [
    {
     "data": {
      "image/png": "[encoded data removed]",
      "text/plain": [
       "<Figure size 640x480 with 1 Axes>"
      ]
     },
     "metadata": {},
     "output_type": "display_data"
    }
   ],
   "source": [
    "gdp_le_2021['log_gdp'] = np.log(gdp_le_2021['GDP_Per_Capita'])\n",
    "\n",
    "ax = gdp_le_2021.plot(x = 'log_gdp', y = 'Life_Expectancy', kind = 'scatter')\n",
    "\n",
    "fit_df = pd.DataFrame({\n",
    "    'GDP_Per_Capita': np.linspace(\n",
    "        start = gdp_le_2021['GDP_Per_Capita'].min(),\n",
    "        stop = gdp_le_2021['GDP_Per_Capita'].max(), \n",
    "        num = 150)})\n",
    "fit_df['log_gdp'] = np.log(fit_df['GDP_Per_Capita'])\n",
    "fit_df['fitted'] = lm.predict(fit_df)\n",
    "\n",
    "fit_df.plot(x = 'log_gdp', y = 'fitted', ax = ax, color = 'black', label = 'fitted');"
   ]
  },
  {
   "cell_type": "markdown",
   "id": "29b2f7ea",
   "metadata": {},
   "source": [
    "# Q4: Finally, return to the full dataset."
   ]
  },
  {
   "cell_type": "markdown",
   "id": "d774de0d",
   "metadata": {},
   "source": [
    "## Q4a: First, fit a linear regression model for life expectancy based on the log of gdp per capita. "
   ]
  },
  {
   "cell_type": "markdown",
   "id": "a5aa596b",
   "metadata": {},
   "source": [
    "Now, let's explore the relationship between health and wealth over time.\n",
    "\n",
    "First, using all data in gdp_le, fit a model for life expectancy based on number of years since 1990. (Hint: make use of I()) to help with this."
   ]
  },
  {
   "cell_type": "code",
   "execution_count": 45,
   "id": "646f15e3",
   "metadata": {},
   "outputs": [
    {
     "data": {
      "text/html": [
       "<table class=\"simpletable\">\n",
       "<caption>OLS Regression Results</caption>\n",
       "<tr>\n",
       "  <th>Dep. Variable:</th>     <td>Life_Expectancy</td> <th>  R-squared:         </th> <td>   0.701</td> \n",
       "</tr>\n",
       "<tr>\n",
       "  <th>Model:</th>                   <td>OLS</td>       <th>  Adj. R-squared:    </th> <td>   0.701</td> \n",
       "</tr>\n",
       "<tr>\n",
       "  <th>Method:</th>             <td>Least Squares</td>  <th>  F-statistic:       </th> <td>1.288e+04</td>\n",
       "</tr>\n",
       "<tr>\n",
       "  <th>Date:</th>             <td>Thu, 24 Oct 2024</td> <th>  Prob (F-statistic):</th>  <td>  0.00</td>  \n",
       "</tr>\n",
       "<tr>\n",
       "  <th>Time:</th>                 <td>16:41:39</td>     <th>  Log-Likelihood:    </th> <td> -16834.</td> \n",
       "</tr>\n",
       "<tr>\n",
       "  <th>No. Observations:</th>      <td>  5504</td>      <th>  AIC:               </th> <td>3.367e+04</td>\n",
       "</tr>\n",
       "<tr>\n",
       "  <th>Df Residuals:</th>          <td>  5502</td>      <th>  BIC:               </th> <td>3.369e+04</td>\n",
       "</tr>\n",
       "<tr>\n",
       "  <th>Df Model:</th>              <td>     1</td>      <th>                     </th>     <td> </td>    \n",
       "</tr>\n",
       "<tr>\n",
       "  <th>Covariance Type:</th>      <td>nonrobust</td>    <th>                     </th>     <td> </td>    \n",
       "</tr>\n",
       "</table>\n",
       "<table class=\"simpletable\">\n",
       "<tr>\n",
       "             <td></td>               <th>coef</th>     <th>std err</th>      <th>t</th>      <th>P>|t|</th>  <th>[0.025</th>    <th>0.975]</th>  \n",
       "</tr>\n",
       "<tr>\n",
       "  <th>Intercept</th>              <td>    9.1941</td> <td>    0.532</td> <td>   17.297</td> <td> 0.000</td> <td>    8.152</td> <td>   10.236</td>\n",
       "</tr>\n",
       "<tr>\n",
       "  <th>np.log(GDP_Per_Capita)</th> <td>    6.5311</td> <td>    0.058</td> <td>  113.506</td> <td> 0.000</td> <td>    6.418</td> <td>    6.644</td>\n",
       "</tr>\n",
       "</table>\n",
       "<table class=\"simpletable\">\n",
       "<tr>\n",
       "  <th>Omnibus:</th>       <td>1066.762</td> <th>  Durbin-Watson:     </th> <td>   0.096</td>\n",
       "</tr>\n",
       "<tr>\n",
       "  <th>Prob(Omnibus):</th>  <td> 0.000</td>  <th>  Jarque-Bera (JB):  </th> <td>2391.301</td>\n",
       "</tr>\n",
       "<tr>\n",
       "  <th>Skew:</th>           <td>-1.108</td>  <th>  Prob(JB):          </th> <td>    0.00</td>\n",
       "</tr>\n",
       "<tr>\n",
       "  <th>Kurtosis:</th>       <td> 5.349</td>  <th>  Cond. No.          </th> <td>    71.5</td>\n",
       "</tr>\n",
       "</table><br/><br/>Notes:<br/>[1] Standard Errors assume that the covariance matrix of the errors is correctly specified."
      ],
      "text/latex": [
       "\\begin{center}\n",
       "\\begin{tabular}{lclc}\n",
       "\\toprule\n",
       "\\textbf{Dep. Variable:}           & Life\\_Expectancy & \\textbf{  R-squared:         } &     0.701   \\\\\n",
       "\\textbf{Model:}                   &       OLS        & \\textbf{  Adj. R-squared:    } &     0.701   \\\\\n",
       "\\textbf{Method:}                  &  Least Squares   & \\textbf{  F-statistic:       } & 1.288e+04   \\\\\n",
       "\\textbf{Date:}                    & Thu, 24 Oct 2024 & \\textbf{  Prob (F-statistic):} &     0.00    \\\\\n",
       "\\textbf{Time:}                    &     16:41:39     & \\textbf{  Log-Likelihood:    } &   -16834.   \\\\\n",
       "\\textbf{No. Observations:}        &        5504      & \\textbf{  AIC:               } & 3.367e+04   \\\\\n",
       "\\textbf{Df Residuals:}            &        5502      & \\textbf{  BIC:               } & 3.369e+04   \\\\\n",
       "\\textbf{Df Model:}                &           1      & \\textbf{                     } &             \\\\\n",
       "\\textbf{Covariance Type:}         &    nonrobust     & \\textbf{                     } &             \\\\\n",
       "\\bottomrule\n",
       "\\end{tabular}\n",
       "\\begin{tabular}{lcccccc}\n",
       "                                  & \\textbf{coef} & \\textbf{std err} & \\textbf{t} & \\textbf{P$> |$t$|$} & \\textbf{[0.025} & \\textbf{0.975]}  \\\\\n",
       "\\midrule\n",
       "\\textbf{Intercept}                &       9.1941  &        0.532     &    17.297  &         0.000        &        8.152    &       10.236     \\\\\n",
       "\\textbf{np.log(GDP\\_Per\\_Capita)} &       6.5311  &        0.058     &   113.506  &         0.000        &        6.418    &        6.644     \\\\\n",
       "\\bottomrule\n",
       "\\end{tabular}\n",
       "\\begin{tabular}{lclc}\n",
       "\\textbf{Omnibus:}       & 1066.762 & \\textbf{  Durbin-Watson:     } &    0.096  \\\\\n",
       "\\textbf{Prob(Omnibus):} &   0.000  & \\textbf{  Jarque-Bera (JB):  } & 2391.301  \\\\\n",
       "\\textbf{Skew:}          &  -1.108  & \\textbf{  Prob(JB):          } &     0.00  \\\\\n",
       "\\textbf{Kurtosis:}      &   5.349  & \\textbf{  Cond. No.          } &     71.5  \\\\\n",
       "\\bottomrule\n",
       "\\end{tabular}\n",
       "%\\caption{OLS Regression Results}\n",
       "\\end{center}\n",
       "\n",
       "Notes: \\newline\n",
       " [1] Standard Errors assume that the covariance matrix of the errors is correctly specified."
      ],
      "text/plain": [
       "<class 'statsmodels.iolib.summary.Summary'>\n",
       "\"\"\"\n",
       "                            OLS Regression Results                            \n",
       "==============================================================================\n",
       "Dep. Variable:        Life_Expectancy   R-squared:                       0.701\n",
       "Model:                            OLS   Adj. R-squared:                  0.701\n",
       "Method:                 Least Squares   F-statistic:                 1.288e+04\n",
       "Date:                Thu, 24 Oct 2024   Prob (F-statistic):               0.00\n",
       "Time:                        16:41:39   Log-Likelihood:                -16834.\n",
       "No. Observations:                5504   AIC:                         3.367e+04\n",
       "Df Residuals:                    5502   BIC:                         3.369e+04\n",
       "Df Model:                           1                                         \n",
       "Covariance Type:            nonrobust                                         \n",
       "==========================================================================================\n",
       "                             coef    std err          t      P>|t|      [0.025      0.975]\n",
       "------------------------------------------------------------------------------------------\n",
       "Intercept                  9.1941      0.532     17.297      0.000       8.152      10.236\n",
       "np.log(GDP_Per_Capita)     6.5311      0.058    113.506      0.000       6.418       6.644\n",
       "==============================================================================\n",
       "Omnibus:                     1066.762   Durbin-Watson:                   0.096\n",
       "Prob(Omnibus):                  0.000   Jarque-Bera (JB):             2391.301\n",
       "Skew:                          -1.108   Prob(JB):                         0.00\n",
       "Kurtosis:                       5.349   Cond. No.                         71.5\n",
       "==============================================================================\n",
       "\n",
       "Notes:\n",
       "[1] Standard Errors assume that the covariance matrix of the errors is correctly specified.\n",
       "\"\"\""
      ]
     },
     "execution_count": 45,
     "metadata": {},
     "output_type": "execute_result"
    }
   ],
   "source": [
    "lm = smf.ols('Life_Expectancy ~ np.log(GDP_Per_Capita)', data = gdp_le).fit()\n",
    "lm.summary()"
   ]
  },
  {
   "cell_type": "code",
   "execution_count": 46,
   "id": "aeaec32d",
   "metadata": {},
   "outputs": [
    {
     "data": {
      "text/plain": [
       "Intercept                 9.194102\n",
       "np.log(GDP_Per_Capita)    6.531130\n",
       "dtype: float64"
      ]
     },
     "execution_count": 46,
     "metadata": {},
     "output_type": "execute_result"
    }
   ],
   "source": [
    "lm.params"
   ]
  },
  {
   "cell_type": "markdown",
   "id": "63938575",
   "metadata": {},
   "source": [
    "## Q4b: Then, add the year variable to your model. How can you interpret the coefficient associated with year? What limitations or weaknesses might this model have?"
   ]
  },
  {
   "cell_type": "markdown",
   "id": "ccb7a3ce",
   "metadata": {},
   "source": [
    "**4b Ans:** Since 1990, each year progressed is associated with an increase of 0.5932 year in life expectancy. Weaknesses of this model include (1) not accounting for other more pertinent or influential variables, some of which can be confounding variables (in which case it'd be impacted by Simpson's Paradox), and (2) not entirely random (a weakness). May be better to use a different statistical tool."
   ]
  },
  {
   "cell_type": "code",
   "execution_count": 47,
   "id": "e5dd72bc",
   "metadata": {},
   "outputs": [
    {
     "data": {
      "text/html": [
       "<table class=\"simpletable\">\n",
       "<caption>OLS Regression Results</caption>\n",
       "<tr>\n",
       "  <th>Dep. Variable:</th>     <td>Life_Expectancy</td> <th>  R-squared:         </th> <td>   0.722</td> \n",
       "</tr>\n",
       "<tr>\n",
       "  <th>Model:</th>                   <td>OLS</td>       <th>  Adj. R-squared:    </th> <td>   0.722</td> \n",
       "</tr>\n",
       "<tr>\n",
       "  <th>Method:</th>             <td>Least Squares</td>  <th>  F-statistic:       </th> <td>   4759.</td> \n",
       "</tr>\n",
       "<tr>\n",
       "  <th>Date:</th>             <td>Thu, 24 Oct 2024</td> <th>  Prob (F-statistic):</th>  <td>  0.00</td>  \n",
       "</tr>\n",
       "<tr>\n",
       "  <th>Time:</th>                 <td>16:41:39</td>     <th>  Log-Likelihood:    </th> <td> -16632.</td> \n",
       "</tr>\n",
       "<tr>\n",
       "  <th>No. Observations:</th>      <td>  5504</td>      <th>  AIC:               </th> <td>3.327e+04</td>\n",
       "</tr>\n",
       "<tr>\n",
       "  <th>Df Residuals:</th>          <td>  5500</td>      <th>  BIC:               </th> <td>3.330e+04</td>\n",
       "</tr>\n",
       "<tr>\n",
       "  <th>Df Model:</th>              <td>     3</td>      <th>                     </th>     <td> </td>    \n",
       "</tr>\n",
       "<tr>\n",
       "  <th>Covariance Type:</th>      <td>nonrobust</td>    <th>                     </th>     <td> </td>    \n",
       "</tr>\n",
       "</table>\n",
       "<table class=\"simpletable\">\n",
       "<tr>\n",
       "                    <td></td>                       <th>coef</th>     <th>std err</th>      <th>t</th>      <th>P>|t|</th>  <th>[0.025</th>    <th>0.975]</th>  \n",
       "</tr>\n",
       "<tr>\n",
       "  <th>Intercept</th>                             <td>    1.2785</td> <td>    1.005</td> <td>    1.272</td> <td> 0.204</td> <td>   -0.693</td> <td>    3.250</td>\n",
       "</tr>\n",
       "<tr>\n",
       "  <th>I(Year - 1990)</th>                        <td>    0.5932</td> <td>    0.055</td> <td>   10.801</td> <td> 0.000</td> <td>    0.486</td> <td>    0.701</td>\n",
       "</tr>\n",
       "<tr>\n",
       "  <th>np.log(GDP_Per_Capita)</th>                <td>    7.1673</td> <td>    0.111</td> <td>   64.511</td> <td> 0.000</td> <td>    6.949</td> <td>    7.385</td>\n",
       "</tr>\n",
       "<tr>\n",
       "  <th>np.log(GDP_Per_Capita):I(Year - 1990)</th> <td>   -0.0502</td> <td>    0.006</td> <td>   -8.426</td> <td> 0.000</td> <td>   -0.062</td> <td>   -0.039</td>\n",
       "</tr>\n",
       "</table>\n",
       "<table class=\"simpletable\">\n",
       "<tr>\n",
       "  <th>Omnibus:</th>       <td>1084.360</td> <th>  Durbin-Watson:     </th> <td>   0.090</td>\n",
       "</tr>\n",
       "<tr>\n",
       "  <th>Prob(Omnibus):</th>  <td> 0.000</td>  <th>  Jarque-Bera (JB):  </th> <td>2613.661</td>\n",
       "</tr>\n",
       "<tr>\n",
       "  <th>Skew:</th>           <td>-1.095</td>  <th>  Prob(JB):          </th> <td>    0.00</td>\n",
       "</tr>\n",
       "<tr>\n",
       "  <th>Kurtosis:</th>       <td> 5.568</td>  <th>  Cond. No.          </th> <td>2.70e+03</td>\n",
       "</tr>\n",
       "</table><br/><br/>Notes:<br/>[1] Standard Errors assume that the covariance matrix of the errors is correctly specified.<br/>[2] The condition number is large, 2.7e+03. This might indicate that there are<br/>strong multicollinearity or other numerical problems."
      ],
      "text/latex": [
       "\\begin{center}\n",
       "\\begin{tabular}{lclc}\n",
       "\\toprule\n",
       "\\textbf{Dep. Variable:}                          & Life\\_Expectancy & \\textbf{  R-squared:         } &     0.722   \\\\\n",
       "\\textbf{Model:}                                  &       OLS        & \\textbf{  Adj. R-squared:    } &     0.722   \\\\\n",
       "\\textbf{Method:}                                 &  Least Squares   & \\textbf{  F-statistic:       } &     4759.   \\\\\n",
       "\\textbf{Date:}                                   & Thu, 24 Oct 2024 & \\textbf{  Prob (F-statistic):} &     0.00    \\\\\n",
       "\\textbf{Time:}                                   &     16:41:39     & \\textbf{  Log-Likelihood:    } &   -16632.   \\\\\n",
       "\\textbf{No. Observations:}                       &        5504      & \\textbf{  AIC:               } & 3.327e+04   \\\\\n",
       "\\textbf{Df Residuals:}                           &        5500      & \\textbf{  BIC:               } & 3.330e+04   \\\\\n",
       "\\textbf{Df Model:}                               &           3      & \\textbf{                     } &             \\\\\n",
       "\\textbf{Covariance Type:}                        &    nonrobust     & \\textbf{                     } &             \\\\\n",
       "\\bottomrule\n",
       "\\end{tabular}\n",
       "\\begin{tabular}{lcccccc}\n",
       "                                                 & \\textbf{coef} & \\textbf{std err} & \\textbf{t} & \\textbf{P$> |$t$|$} & \\textbf{[0.025} & \\textbf{0.975]}  \\\\\n",
       "\\midrule\n",
       "\\textbf{Intercept}                               &       1.2785  &        1.005     &     1.272  &         0.204        &       -0.693    &        3.250     \\\\\n",
       "\\textbf{I(Year - 1990)}                          &       0.5932  &        0.055     &    10.801  &         0.000        &        0.486    &        0.701     \\\\\n",
       "\\textbf{np.log(GDP\\_Per\\_Capita)}                &       7.1673  &        0.111     &    64.511  &         0.000        &        6.949    &        7.385     \\\\\n",
       "\\textbf{np.log(GDP\\_Per\\_Capita):I(Year - 1990)} &      -0.0502  &        0.006     &    -8.426  &         0.000        &       -0.062    &       -0.039     \\\\\n",
       "\\bottomrule\n",
       "\\end{tabular}\n",
       "\\begin{tabular}{lclc}\n",
       "\\textbf{Omnibus:}       & 1084.360 & \\textbf{  Durbin-Watson:     } &    0.090  \\\\\n",
       "\\textbf{Prob(Omnibus):} &   0.000  & \\textbf{  Jarque-Bera (JB):  } & 2613.661  \\\\\n",
       "\\textbf{Skew:}          &  -1.095  & \\textbf{  Prob(JB):          } &     0.00  \\\\\n",
       "\\textbf{Kurtosis:}      &   5.568  & \\textbf{  Cond. No.          } & 2.70e+03  \\\\\n",
       "\\bottomrule\n",
       "\\end{tabular}\n",
       "%\\caption{OLS Regression Results}\n",
       "\\end{center}\n",
       "\n",
       "Notes: \\newline\n",
       " [1] Standard Errors assume that the covariance matrix of the errors is correctly specified. \\newline\n",
       " [2] The condition number is large, 2.7e+03. This might indicate that there are \\newline\n",
       " strong multicollinearity or other numerical problems."
      ],
      "text/plain": [
       "<class 'statsmodels.iolib.summary.Summary'>\n",
       "\"\"\"\n",
       "                            OLS Regression Results                            \n",
       "==============================================================================\n",
       "Dep. Variable:        Life_Expectancy   R-squared:                       0.722\n",
       "Model:                            OLS   Adj. R-squared:                  0.722\n",
       "Method:                 Least Squares   F-statistic:                     4759.\n",
       "Date:                Thu, 24 Oct 2024   Prob (F-statistic):               0.00\n",
       "Time:                        16:41:39   Log-Likelihood:                -16632.\n",
       "No. Observations:                5504   AIC:                         3.327e+04\n",
       "Df Residuals:                    5500   BIC:                         3.330e+04\n",
       "Df Model:                           3                                         \n",
       "Covariance Type:            nonrobust                                         \n",
       "=========================================================================================================\n",
       "                                            coef    std err          t      P>|t|      [0.025      0.975]\n",
       "---------------------------------------------------------------------------------------------------------\n",
       "Intercept                                 1.2785      1.005      1.272      0.204      -0.693       3.250\n",
       "I(Year - 1990)                            0.5932      0.055     10.801      0.000       0.486       0.701\n",
       "np.log(GDP_Per_Capita)                    7.1673      0.111     64.511      0.000       6.949       7.385\n",
       "np.log(GDP_Per_Capita):I(Year - 1990)    -0.0502      0.006     -8.426      0.000      -0.062      -0.039\n",
       "==============================================================================\n",
       "Omnibus:                     1084.360   Durbin-Watson:                   0.090\n",
       "Prob(Omnibus):                  0.000   Jarque-Bera (JB):             2613.661\n",
       "Skew:                          -1.095   Prob(JB):                         0.00\n",
       "Kurtosis:                       5.568   Cond. No.                     2.70e+03\n",
       "==============================================================================\n",
       "\n",
       "Notes:\n",
       "[1] Standard Errors assume that the covariance matrix of the errors is correctly specified.\n",
       "[2] The condition number is large, 2.7e+03. This might indicate that there are\n",
       "strong multicollinearity or other numerical problems.\n",
       "\"\"\""
      ]
     },
     "execution_count": 47,
     "metadata": {},
     "output_type": "execute_result"
    }
   ],
   "source": [
    "lm_gdp_cont_year = smf.ols('Life_Expectancy ~ I(Year - 1990) + np.log(GDP_Per_Capita) + np.log(GDP_Per_Capita):I(Year - 1990)', data = gdp_le).fit()\n",
    "lm_gdp_cont_year.summary()"
   ]
  },
  {
   "cell_type": "code",
   "execution_count": 48,
   "id": "21bb7654",
   "metadata": {},
   "outputs": [
    {
     "data": {
      "text/plain": [
       "Intercept                                1.278483\n",
       "I(Year - 1990)                           0.593225\n",
       "np.log(GDP_Per_Capita)                   7.167273\n",
       "np.log(GDP_Per_Capita):I(Year - 1990)   -0.050210\n",
       "dtype: float64"
      ]
     },
     "execution_count": 48,
     "metadata": {},
     "output_type": "execute_result"
    }
   ],
   "source": [
    "lm_gdp_cont_year.params"
   ]
  }
 ],
 "metadata": {
  "kernelspec": {
   "display_name": "base",
   "language": "python",
   "name": "python3"
  },
  "language_info": {
   "codemirror_mode": {
    "name": "ipython",
    "version": 3
   },
   "file_extension": ".py",
   "mimetype": "text/x-python",
   "name": "python",
   "nbconvert_exporter": "python",
   "pygments_lexer": "ipython3",
   "version": "3.12.5"
  }
 },
 "nbformat": 4,
 "nbformat_minor": 5
}
